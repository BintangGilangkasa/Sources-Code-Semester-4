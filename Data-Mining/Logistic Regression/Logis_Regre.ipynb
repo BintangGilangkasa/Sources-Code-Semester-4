{
 "cells": [
  {
   "cell_type": "code",
   "execution_count": 26,
   "id": "473a2dcb",
   "metadata": {},
   "outputs": [],
   "source": [
    "import pandas as pd\n",
    "from sklearn.linear_model import LogisticRegression\n",
    "from sklearn.model_selection import train_test_split\n",
    "from sklearn.metrics import accuracy_score"
   ]
  },
  {
   "cell_type": "code",
   "execution_count": 27,
   "id": "1a7f23b9",
   "metadata": {},
   "outputs": [],
   "source": [
    "data_dummy = {\n",
    "    'penghasilan': [2000, 4000, 5000, 7000, 10000, 3000, 8000, 12000, 15000, 2500],\n",
    "    'pengeluaran': [300, 700, 1000, 2000, 1500, 500, 2500, 3000, 4000, 600],\n",
    "    'loyal' : [1, 1, 0, 0, 0, 1, 0, 0, 0, 1]\n",
    "}\n",
    "\n",
    "df = pd.DataFrame(data_dummy)"
   ]
  },
  {
   "cell_type": "code",
   "execution_count": 28,
   "id": "860f57f4",
   "metadata": {},
   "outputs": [],
   "source": [
    "# Memisahkan Fitur dan Target\n",
    "X = df[['penghasilan', 'pengeluaran']]\n",
    "y = df['loyal'] #Target\n",
    "\n",
    "X_train, X_test, y_train, y_test = train_test_split(X, y, test_size=0.2, random_state=1)"
   ]
  },
  {
   "cell_type": "code",
   "execution_count": 29,
   "id": "79383359",
   "metadata": {},
   "outputs": [
    {
     "name": "stdout",
     "output_type": "stream",
     "text": [
      "Nilai Loyal sebenarnya (y_test)  : 2    0\n",
      "9    1\n",
      "Name: loyal, dtype: int64\n",
      "Nilai Loyal prediksi (y_pred)    : [1 1]\n"
     ]
    }
   ],
   "source": [
    "# Buat dan Latih model regresi logistik \n",
    "model = LogisticRegression()\n",
    "model.fit(X_train, y_train)\n",
    "\n",
    "# Prediksi\n",
    "y_pred = model.predict(X_test)\n",
    "\n",
    "# Menampilkan Hasil\n",
    "print(f'Nilai Loyal sebenarnya (y_test)  : {y_test}')\n",
    "print(f'Nilai Loyal prediksi (y_pred)    : {y_pred}')"
   ]
  },
  {
   "cell_type": "code",
   "execution_count": 30,
   "id": "4d741425",
   "metadata": {},
   "outputs": [
    {
     "name": "stdout",
     "output_type": "stream",
     "text": [
      "\n",
      "Perbandingan Loyal aktual vs Prediksi:\n",
      "   actual Loyal  Prediction Loyal\n",
      "2             0                 1\n",
      "9             1                 1\n",
      "\n",
      "Perbandingan dengan Kolom 'Correct Prediction':\n",
      "   actual Loyal  ...                                 Correct Prediction\n",
      "2             0  ...     2    0\n",
      "9    1\n",
      "Name: actual Loyal, dtype: int64\n",
      "9             1  ...  2    1\n",
      "9    1\n",
      "Name: Prediction Loyal, dtype: i...\n",
      "\n",
      "[2 rows x 3 columns]\n"
     ]
    }
   ],
   "source": [
    "comparison_df = pd.DataFrame({'actual Loyal': y_test, 'Prediction Loyal': y_pred})\n",
    "print(\"\\nPerbandingan Loyal aktual vs Prediksi:\")\n",
    "print(comparison_df)\n",
    "\n",
    "# Menambahkan Kolom 'Correct Prediction'\n",
    "comparison_df['Correct Prediction'] = (comparison_df['actual Loyal'],\n",
    "                                       comparison_df['Prediction Loyal'])\n",
    "print(\"\\nPerbandingan dengan Kolom 'Correct Prediction':\")\n",
    "print(comparison_df)"
   ]
  },
  {
   "cell_type": "code",
   "execution_count": null,
   "id": "5c22e733",
   "metadata": {},
   "outputs": [
    {
     "name": "stdout",
     "output_type": "stream",
     "text": [
      "Akurasi model: 50.0%\n"
     ]
    },
    {
     "ename": "",
     "evalue": "",
     "output_type": "error",
     "traceback": [
      "\u001b[1;31mThe Kernel crashed while executing code in the current cell or a previous cell. \n",
      "\u001b[1;31mPlease review the code in the cell(s) to identify a possible cause of the failure. \n",
      "\u001b[1;31mClick <a href='https://aka.ms/vscodeJupyterKernelCrash'>here</a> for more info. \n",
      "\u001b[1;31mView Jupyter <a href='command:jupyter.viewOutput'>log</a> for further details."
     ]
    }
   ],
   "source": [
    "# Evaluasi Akurasi\n",
    "accuracy = accuracy_score(y_test, y_pred)\n",
    "print(f'Akurasi model: {accuracy * 100}%')"
   ]
  }
 ],
 "metadata": {
  "kernelspec": {
   "display_name": "Python 3",
   "language": "python",
   "name": "python3"
  },
  "language_info": {
   "codemirror_mode": {
    "name": "ipython",
    "version": 3
   },
   "file_extension": ".py",
   "mimetype": "text/x-python",
   "name": "python",
   "nbconvert_exporter": "python",
   "pygments_lexer": "ipython3",
   "version": "3.11.8"
  }
 },
 "nbformat": 4,
 "nbformat_minor": 5
}
