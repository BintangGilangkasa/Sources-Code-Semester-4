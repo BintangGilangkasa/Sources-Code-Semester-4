{
 "cells": [
  {
   "cell_type": "markdown",
   "metadata": {},
   "source": [
    "### WEB SCRAPING BERITA SAINS TEMPO"
   ]
  },
  {
   "cell_type": "code",
   "execution_count": 2,
   "metadata": {},
   "outputs": [
    {
     "name": "stdout",
     "output_type": "stream",
     "text": [
      "Gagal mengambil halaman.\n"
     ]
    }
   ],
   "source": [
    "# Import Library\n",
    "import requests\n",
    "from bs4 import BeautifulSoup\n",
    "import json\n",
    "\n",
    "# URL Halaman Sains Tempo \n",
    "url = \"https://game.indozone.id/news\"\n",
    "\n",
    "# Menampung Data\n",
    "data_artikel = []\n",
    "\n",
    "# Mengambil isi halaman dengan requests\n",
    "respon = requests.get(url)\n",
    "\n",
    "# Cek apakah berhasil mengakses\n",
    "if respon.status_code == 200:\n",
    "\n",
    "    # Mengambil Isi Html\n",
    "    halaman = BeautifulSoup(respon.content, 'html.parser')\n",
    "\n",
    "    # Cari Halaman Artikel\n",
    "    daftar_artikel = halaman.find_all(\"latest__wrap\")\n",
    "    \n",
    "    # Tampilan Judul dan Link setiap Artikel\n",
    "    for artikel in daftar_artikel:\n",
    "        judul = artikel.find(\"a\")\n",
    "        if judul and judul.a:\n",
    "            data_artikel.append({\n",
    "                \"judul\": judul.get_text(strip=True),\n",
    "                \"link\": judul.a[\"href\"]\n",
    "            })\n",
    "\n",
    "    with open(\"artikel_tempo.json\", \"w\", encoding=\"utf-8\") as f:\n",
    "       json.dump(data_artikel, f, ensure_ascii=False, indent=2)\n",
    "\n",
    "    for artikel in data_artikel:\n",
    "        print(\"Judul :\", artikel[\"judul\"])\n",
    "        print(\"Link  :\", artikel[\"link\"])\n",
    "        print(\"-\" * 40)\n",
    "\n",
    "else:\n",
    " print(\"Gagal mengambil halaman.\")"
   ]
  }
 ],
 "metadata": {
  "kernelspec": {
   "display_name": "Python 3",
   "language": "python",
   "name": "python3"
  },
  "language_info": {
   "codemirror_mode": {
    "name": "ipython",
    "version": 3
   },
   "file_extension": ".py",
   "mimetype": "text/x-python",
   "name": "python",
   "nbconvert_exporter": "python",
   "pygments_lexer": "ipython3",
   "version": "3.11.8"
  }
 },
 "nbformat": 4,
 "nbformat_minor": 2
}
