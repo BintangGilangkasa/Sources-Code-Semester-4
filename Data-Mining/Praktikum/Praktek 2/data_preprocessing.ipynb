{
 "cells": [
  {
   "cell_type": "markdown",
   "id": "e6511016",
   "metadata": {},
   "source": [
    "# DATA CLEANING"
   ]
  },
  {
   "cell_type": "code",
   "execution_count": 11,
   "id": "2d95237c",
   "metadata": {},
   "outputs": [],
   "source": [
    "import pandas as pd"
   ]
  },
  {
   "cell_type": "code",
   "execution_count": 12,
   "id": "da8138dc",
   "metadata": {},
   "outputs": [
    {
     "name": "stdout",
     "output_type": "stream",
     "text": [
      "<class 'pandas.core.frame.DataFrame'>\n",
      "RangeIndex: 100 entries, 0 to 99\n",
      "Data columns (total 3 columns):\n",
      " #   Column  Non-Null Count  Dtype \n",
      "---  ------  --------------  ----- \n",
      " 0   title   100 non-null    object\n",
      " 1   author  100 non-null    object\n",
      " 2   rating  100 non-null    object\n",
      "dtypes: object(3)\n",
      "memory usage: 2.5+ KB\n",
      "None\n",
      "                                               title           author  \\\n",
      "0            The Hunger Games (The Hunger Games, #1)  Suzanne Collins   \n",
      "1  Harry Potter and the Order of the Phoenix (Har...     J.K. Rowling   \n",
      "2                                Pride and Prejudice      Jane Austen   \n",
      "3                              To Kill a Mockingbird       Harper Lee   \n",
      "4                                     The Book Thief     Markus Zusak   \n",
      "\n",
      "                                 rating  \n",
      "0   4.34 avg rating — 9,364,831 ratings  \n",
      "1   4.50 avg rating — 3,628,188 ratings  \n",
      "2   4.29 avg rating — 4,531,075 ratings  \n",
      "3   4.26 avg rating — 6,574,365 ratings  \n",
      "4   4.39 avg rating — 2,754,886 ratings  \n"
     ]
    }
   ],
   "source": [
    "df = pd.read_json('output.json')\n",
    "print(df.info())\n",
    "print(df.head())"
   ]
  },
  {
   "cell_type": "code",
   "execution_count": 13,
   "id": "56ef64dc",
   "metadata": {},
   "outputs": [],
   "source": [
    "import re\n",
    "\n",
    "def clean_rating(rating_str):\n",
    "    if pd.isna(rating_str):\n",
    "        return None, None\n",
    "    match = re.search(r\"(\\d+\\.\\d+).+?([\\d,]+)\", rating_str)\n",
    "    if match:\n",
    "        rating = float(match.group(1))\n",
    "        count = int(match.group(2).replace(\",\", \"\"))\n",
    "        return rating, count\n",
    "    return None, None\n",
    "\n",
    "df[[\"rating_value\", \"rating_count\"]] = df[\"rating\"].apply(lambda x:\n",
    "pd.Series(clean_rating(x)))"
   ]
  },
  {
   "cell_type": "code",
   "execution_count": 14,
   "id": "df89781f",
   "metadata": {},
   "outputs": [],
   "source": [
    "df[\"title\"] = df[\"title\"].str.strip().str.title()\n",
    "df[\"author\"] = df[\"author\"].str.strip()"
   ]
  },
  {
   "cell_type": "code",
   "execution_count": 15,
   "id": "f7dc8779",
   "metadata": {},
   "outputs": [],
   "source": [
    "df.drop_duplicates(inplace=True)\n",
    "df.dropna(subset=[\"title\", \"author\"], inplace=True)"
   ]
  },
  {
   "cell_type": "code",
   "execution_count": 16,
   "id": "828f23d8",
   "metadata": {},
   "outputs": [],
   "source": [
    "def extract_series(title):\n",
    "    match = re.search(r\"\\((.*?)\\)\", title)\n",
    "    return match.group(1) if match else None\n",
    "df[\"series_info\"] = df[\"title\"].apply(extract_series)"
   ]
  },
  {
   "cell_type": "code",
   "execution_count": 17,
   "id": "bb6cd0ff",
   "metadata": {},
   "outputs": [],
   "source": [
    "df.to_json(\"books_cleaned_records.json\", index=False, orient='records')"
   ]
  },
  {
   "cell_type": "markdown",
   "id": "7874b6fb",
   "metadata": {},
   "source": [
    "# DATA TRANSFORMATION"
   ]
  },
  {
   "cell_type": "code",
   "execution_count": null,
   "id": "274957b9",
   "metadata": {},
   "outputs": [],
   "source": []
  },
  {
   "cell_type": "code",
   "execution_count": null,
   "id": "2c10abfd",
   "metadata": {},
   "outputs": [],
   "source": []
  }
 ],
 "metadata": {
  "kernelspec": {
   "display_name": "Python 3",
   "language": "python",
   "name": "python3"
  },
  "language_info": {
   "codemirror_mode": {
    "name": "ipython",
    "version": 3
   },
   "file_extension": ".py",
   "mimetype": "text/x-python",
   "name": "python",
   "nbconvert_exporter": "python",
   "pygments_lexer": "ipython3",
   "version": "3.11.8"
  }
 },
 "nbformat": 4,
 "nbformat_minor": 5
}
