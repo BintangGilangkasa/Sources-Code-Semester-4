{
 "cells": [
  {
   "cell_type": "code",
   "execution_count": 18,
   "id": "4473ce75",
   "metadata": {},
   "outputs": [
    {
     "name": "stdout",
     "output_type": "stream",
     "text": [
      "{'_id': 1, 'nama': 'Bintang Gilangkasa', 'prodi': 'Teknik informatika', 'angkatan': 2023}\n",
      "{'_id': 2, 'nama': 'Ihab Hasanain Akmal', 'prodi': 'Teknologi Informasi', 'angkatan': 2023}\n",
      "{'_id': 3, 'nama': 'Yusuf Bagus', 'prodi': 'Bisnis Digital', 'angkatan': 2024}\n",
      "{'_id': 4, 'nama': 'David Firmanda', 'prodi': 'DKV', 'angkatan': 2023}\n",
      "{'_id': 5, 'nama': 'Andi Wildan', 'prodi': 'Infomatika', 'angkatan': 2023}\n",
      "{'_id': 6, 'nama': 'Satria Arganata', 'prodi': 'Sains Data', 'angkatan': 2024}\n",
      "{'_id': 7, 'nama': 'Nabila Mutiara', 'prodi': 'Sains Data', 'angkatan': 2023}\n"
     ]
    }
   ],
   "source": [
    "import pymongo\n",
    "\n",
    "myclient = pymongo.MongoClient(\"mongodb://localhost:27017\")\n",
    "mydb = myclient[\"mahasiswa\"]\n",
    "mycol = mydb[\"data_mahasiswa\"]\n",
    "\n",
    "for x in mycol.find():\n",
    "    print(x)"
   ]
  },
  {
   "cell_type": "code",
   "execution_count": 15,
   "id": "17f3b012",
   "metadata": {},
   "outputs": [
    {
     "data": {
      "text/plain": [
       "UpdateResult({'n': 1, 'nModified': 0, 'ok': 1.0, 'updatedExisting': True}, acknowledged=True)"
      ]
     },
     "execution_count": 15,
     "metadata": {},
     "output_type": "execute_result"
    }
   ],
   "source": [
    "mycol.update_one({\"nama\": \"Bintang Gilangkasa\"}, {\"$set\": {\"prodi\": \"Teknik informatika\"}})"
   ]
  },
  {
   "cell_type": "code",
   "execution_count": 17,
   "id": "3113d11d",
   "metadata": {},
   "outputs": [
    {
     "name": "stdout",
     "output_type": "stream",
     "text": [
      "Index Name: _id_, Info: {'v': 2, 'key': [('_id', 1)]}\n",
      "Index Name: name_1, Info: {'v': 2, 'key': [('name', 1)]}\n"
     ]
    }
   ],
   "source": [
    "#Import Library\n",
    "from pymongo import ASCENDING, DESCENDING\n",
    "\n",
    "#Indexing: Buat index pada field \"name\"\n",
    "mycol.create_index([(\"name\", ASCENDING)])\n",
    "\n",
    "# Index_Info: Tampilkan semua informasi index di collection\n",
    "index_info = mycol.index_information()\n",
    "for name, info in index_info.items():\n",
    "    print(f\"Index Name: {name}, Info: {info}\")"
   ]
  }
 ],
 "metadata": {
  "kernelspec": {
   "display_name": "Python 3",
   "language": "python",
   "name": "python3"
  },
  "language_info": {
   "codemirror_mode": {
    "name": "ipython",
    "version": 3
   },
   "file_extension": ".py",
   "mimetype": "text/x-python",
   "name": "python",
   "nbconvert_exporter": "python",
   "pygments_lexer": "ipython3",
   "version": "3.11.8"
  }
 },
 "nbformat": 4,
 "nbformat_minor": 5
}
