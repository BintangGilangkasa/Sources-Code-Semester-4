{
 "cells": [
  {
   "cell_type": "code",
   "execution_count": 7,
   "id": "c0dccbdb",
   "metadata": {},
   "outputs": [],
   "source": [
    "from pymongo import MongoClient\n",
    "\n",
    "clinet = MongoClient('mongodb://localhost:27017/')\n",
    "db = clinet['kv_store']\n",
    "collection = db['kv']"
   ]
  },
  {
   "cell_type": "code",
   "execution_count": 8,
   "id": "c70310e7",
   "metadata": {},
   "outputs": [],
   "source": [
    "def put(key, value):\n",
    "    collection.update_one({'_id': key}, {'$set': {'value': value}}, upsert=True)\n",
    "    print(f\"Key '{key}'disimpan\")"
   ]
  },
  {
   "cell_type": "code",
   "execution_count": 9,
   "id": "33292866",
   "metadata": {},
   "outputs": [],
   "source": [
    "def get(key):\n",
    "    doc = collection.find_one({'_id': key})\n",
    "    if doc:\n",
    "        return doc['value']\n",
    "    else:\n",
    "        return None"
   ]
  },
  {
   "cell_type": "code",
   "execution_count": 10,
   "id": "0495417e",
   "metadata": {},
   "outputs": [],
   "source": [
    "def delete(key):\n",
    "    result = collection.delete_one({'_id': key})\n",
    "    print(f\"Key '{key}' dihapus\" if result.deleted_count > 0 else 'key tidak ditemukan')"
   ]
  },
  {
   "cell_type": "code",
   "execution_count": 11,
   "id": "9d6d1c25",
   "metadata": {},
   "outputs": [],
   "source": [
    "def show_all():\n",
    "    for doc in collection.find():\n",
    "        print(f\"{doc['_id']}: {doc['value']}\")"
   ]
  },
  {
   "cell_type": "code",
   "execution_count": 12,
   "id": "84f634f3",
   "metadata": {},
   "outputs": [
    {
     "name": "stdout",
     "output_type": "stream",
     "text": [
      "Key 'nama'disimpan\n",
      "Key 'email'disimpan\n",
      "John Doe\n",
      "Key 'email' dihapus\n",
      "nama: John Doe\n"
     ]
    }
   ],
   "source": [
    "put('nama', 'John Doe')\n",
    "put('email', 'john@email.co')\n",
    "print(get('nama')), get('email')\n",
    "delete('email')\n",
    "show_all()"
   ]
  },
  {
   "cell_type": "code",
   "execution_count": null,
   "id": "bd5d1a81",
   "metadata": {},
   "outputs": [],
   "source": [
    "print('====== Produk Toko A ======')\n",
    "\n",
    "# Fungsi menyimpan produk\n",
    "def add_product(id, name, price):\n",
    "    key = f\"product_{id}\"  # disarankan pakai underscore biar rapi\n",
    "    value = {'name': name, 'price': price}\n",
    "    put(key, value)\n",
    "\n",
    "# Fungsi menampilkan semua produk\n",
    "def list_product():\n",
    "    for doc in collection.find({'_id': {'$regex': '^product'}}):\n",
    "        print(f\"({doc['_id']}, {doc['value']})\")  # perbaiki kurung penutup\n",
    "\n",
    "# Tambahkan produk\n",
    "add_product(\"001\", \"Laptop\", 15000000)\n",
    "add_product(\"002\", \"Smartphone\", 5000000)\n",
    "\n",
    "# Tampilkan semua produk\n",
    "list_product()\n"
   ]
  }
 ],
 "metadata": {
  "kernelspec": {
   "display_name": "Python 3",
   "language": "python",
   "name": "python3"
  },
  "language_info": {
   "codemirror_mode": {
    "name": "ipython",
    "version": 3
   },
   "file_extension": ".py",
   "mimetype": "text/x-python",
   "name": "python",
   "nbconvert_exporter": "python",
   "pygments_lexer": "ipython3",
   "version": "3.11.8"
  }
 },
 "nbformat": 4,
 "nbformat_minor": 5
}
