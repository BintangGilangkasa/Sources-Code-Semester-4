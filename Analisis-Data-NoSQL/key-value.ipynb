{
 "cells": [
  {
   "cell_type": "code",
   "execution_count": 8,
   "id": "1a688ca8",
   "metadata": {},
   "outputs": [],
   "source": [
    "import pymongo\n",
    "\n",
    "myclient = pymongo.MongoClient('mongodb://localhost:27017')\n",
    "mydb = myclient['kv_store']\n",
    "mycol = mydb['kv']"
   ]
  },
  {
   "cell_type": "code",
   "execution_count": 9,
   "id": "e7c203fd",
   "metadata": {},
   "outputs": [],
   "source": [
    "# Menyimpan data (insert atau update)\n",
    "def put(key, value):\n",
    "    mycol.update_one(\n",
    "        {'_id': key},\n",
    "        {'$set': {'value': value}},\n",
    "        upsert=True\n",
    "    )\n",
    "\n",
    "    print(f'Key {key} berhasil disimpan.')"
   ]
  },
  {
   "cell_type": "code",
   "execution_count": 10,
   "id": "e6c28acc",
   "metadata": {},
   "outputs": [],
   "source": [
    "# Membaca Data\n",
    "def get(key):\n",
    "    doc = mycol.find_one({'_id': key})\n",
    "    if doc:\n",
    "        return doc['value']\n",
    "    return None"
   ]
  },
  {
   "cell_type": "code",
   "execution_count": 11,
   "id": "b20d576b",
   "metadata": {},
   "outputs": [],
   "source": [
    "# Menghapus Data\n",
    "def delete(key):\n",
    "    result = mycol.delete_one({'_id': key})\n",
    "    print(f'delete {key} dihapus.'\n",
    "          if result.deleted_count\n",
    "          else 'Key tidak ditemukan.')"
   ]
  },
  {
   "cell_type": "code",
   "execution_count": 12,
   "id": "078d6b1f",
   "metadata": {},
   "outputs": [],
   "source": [
    "# Menampilkan semua data\n",
    "def show_all():\n",
    "    for doc in mycol.find():\n",
    "        print(f\"Key: {doc['_id']}, Value: {doc['value']}\")\n"
   ]
  },
  {
   "cell_type": "code",
   "execution_count": 14,
   "id": "8569c391",
   "metadata": {},
   "outputs": [
    {
     "name": "stdout",
     "output_type": "stream",
     "text": [
      "====== Produk Toko A ======\n",
      "Key product: 001 berhasil disimpan.\n",
      "Key product: 002 berhasil disimpan.\n",
      "(product: 001, {'name': 'Laptop', 'price': 15000000}\n",
      "(product: 002, {'name': 'Smartphone', 'price': 5000000}\n"
     ]
    }
   ],
   "source": [
    "print('====== Produk Toko A ======')\n",
    "def add_product(id, name, price):\n",
    "    key = f\"product: {id}\"\n",
    "    value = {'name': name, 'price': price}\n",
    "    put(key, value)\n",
    "\n",
    "def list_product():\n",
    "    for doc in mycol.find({'_id': {'$regex': '^product'}}):\n",
    "        print(f\"({doc['_id']}, {doc['value']}\")\n",
    "\n",
    "add_product('001', \"Laptop\", 15000000)\n",
    "add_product('002', \"Smartphone\", 5000000)\n",
    "\n",
    "list_product()"
   ]
  }
 ],
 "metadata": {
  "kernelspec": {
   "display_name": "Python 3",
   "language": "python",
   "name": "python3"
  },
  "language_info": {
   "codemirror_mode": {
    "name": "ipython",
    "version": 3
   },
   "file_extension": ".py",
   "mimetype": "text/x-python",
   "name": "python",
   "nbconvert_exporter": "python",
   "pygments_lexer": "ipython3",
   "version": "3.11.8"
  }
 },
 "nbformat": 4,
 "nbformat_minor": 5
}
