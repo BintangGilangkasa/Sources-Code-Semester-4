{
 "cells": [
  {
   "cell_type": "code",
   "execution_count": null,
   "id": "5224493c",
   "metadata": {},
   "outputs": [
    {
     "name": "stdout",
     "output_type": "stream",
     "text": [
      "{'_id': 1, 'nama': 'David Firmanda', 'email': 'davidfirmanda@gmail.com', 'nomer_hp': 82223223232.0, 'id game': 123456, 'membership': 'Bronze', 'total_spend': 50000, 'status': 'active'}\n",
      "{'_id': 2, 'nama': 'Fhaisal Aviv', 'email': 'fhaisalaviv@gmail.com', 'nomer_hp': 82267848646.0, 'id game': 345678, 'membership': 'Gold', 'total_spend': 1000000, 'status': 'active'}\n",
      "{'_id': 3, 'nama': 'Salsabila Jeya', 'email': 'salsabilajeya@gmail.com', 'nomer_hp': 8221267677.0, 'id game': 98767, 'membership': 'Platinum', 'total_spend': 2000000, 'status': 'active'}\n",
      "{'_id': 4, 'nama': 'Sindu Bintang', 'email': 'sindubintang@gmail.com', 'nomer_hp': 82223223232.0, 'id game': 789435, 'membership': 'Bronze', 'total_spend': 100000, 'status': 'active'}\n",
      "{'_id': 5, 'nama': 'Bintang Gilangkasa', 'email': 'bintanggilangkasa@gmail.com', 'nomer_hp': 8222562562.0, 'id game': 567853, 'membership': 'Silver', 'total_spend': 500000, 'status': 'active'}\n",
      "{'_id': 6, 'nama': 'Andi Wildan', 'email': 'andiwildan@gmail.com', 'nomer_hp': 82267667762.0, 'id game': 787878, 'membership': 'Silver', 'total_spend': 250000, 'status': 'active'}\n",
      "{'_id': 7, 'nama': 'Budi Setiawan', 'email': 'budis@email.com', 'nomer_hp': 81789012345.0, 'id game': 123462, 'membership': 'Gold', 'total_spend': 450000, 'status': 'active'}\n",
      "{'_id': 8, 'nama': 'Nina Marlina', 'email': 'ninam@email.com', 'nomer_hp': 81890123456.0, 'id game': 123463, 'membership': 'Bronze', 'total_spend': 60000, 'status': 'active'}\n",
      "{'_id': 10, 'nama': 'Ratna Sari', 'email': 'ratnas@email.com', 'nomer_hp': 82012345678.0, 'id game': 123465, 'membership': 'Silver', 'total_spend': 120000, 'status': 'active'}\n",
      "{'_id': 12, 'nama': 'Novi Handayani', 'email': 'novih@email.com', 'nomer_hp': 82234567890.0, 'id game': 123467, 'membership': 'Bronze', 'total_spend': 30000, 'status': 'active'}\n",
      "{'_id': 13, 'nama': 'Tono Prasetyo', 'email': 'tonop@email.com', 'nomer_hp': 82345678901.0, 'id game': 123468, 'membership': 'Silver', 'total_spend': 100000, 'status': 'active'}\n",
      "{'_id': 14, 'nama': 'Indah Lestari', 'email': 'indahl@email.com', 'nomer_hp': 82456789012.0, 'id game': 123469, 'membership': 'Gold', 'total_spend': 360000, 'status': 'active'}\n",
      "{'_id': 16, 'nama': 'Citra Dewi', 'email': 'citrad@email.com', 'nomer_hp': 82678901234.0, 'id game': 123471, 'membership': 'Silver', 'total_spend': 180000, 'status': 'active'}\n",
      "{'_id': 17, 'nama': 'Hendra Kurniawan', 'email': 'hendrak@email.com', 'nomer_hp': 82789012345.0, 'id game': 123472, 'membership': 'Gold', 'total_spend': 390000, 'status': 'active'}\n",
      "{'_id': 18, 'nama': 'Yuni Kartika', 'email': 'yunik@email.com', 'nomer_hp': 82890123456.0, 'id game': 123473, 'membership': 'Bronze', 'total_spend': 55000, 'status': 'active'}\n",
      "{'_id': 19, 'nama': 'Raka Prabowo', 'email': 'rakap@email.com', 'nomer_hp': 82901234567.0, 'id game': 123474, 'membership': 'Silver', 'total_spend': 130000, 'status': 'active'}\n",
      "{'_id': 20, 'nama': 'Alya Putri', 'email': 'alyaputri@email.com', 'nomer_hp': 81234567890.0, 'id game': 123457, 'membership': 'Silver', 'total_spend': 150000, 'status': 'active'}\n"
     ]
    }
   ],
   "source": [
    "# Inisialisasi Database\n",
    "import pymongo\n",
    "\n",
    "myclient = pymongo.MongoClient(\"mongodb://localhost:27017/\")\n",
    "mydb = myclient[\"cherrizle\"]\n",
    "mycol = mydb[\"data_pelanggan\"]\n",
    "\n",
    "for x in mycol.find():\n",
    "    print(x)"
   ]
  },
  {
   "cell_type": "code",
   "execution_count": null,
   "id": "aeef495b",
   "metadata": {},
   "outputs": [],
   "source": [
    "# Mencari data pelanggan dengan membership Gold\n",
    "for x in mycol.find({\"membership\": \"Gold\"}):\n",
    "    print(x)"
   ]
  },
  {
   "cell_type": "code",
   "execution_count": null,
   "id": "f9e914c2",
   "metadata": {},
   "outputs": [],
   "source": [
    "# Mencari data pelanggan dengan total belanja lebih dari 1 juta\n",
    "for x in mycol.find({\"total_spend\" : {\"$gt\": 1000000}}):\n",
    "    print(x)"
   ]
  },
  {
   "cell_type": "code",
   "execution_count": null,
   "id": "f4b35af8",
   "metadata": {},
   "outputs": [],
   "source": [
    "# Mengurutkan data dari total belanja tertinggi ke terendah \n",
    "for x in mycol.find().sort({\"total_spend\": -1}):\n",
    "    print(x);"
   ]
  },
  {
   "cell_type": "code",
   "execution_count": null,
   "id": "6dd63ba3",
   "metadata": {},
   "outputs": [],
   "source": [
    "# Mengupdate data pelanggan dengan nama menjadi membership Platinum\n",
    "mycol.update_one({\"nama\": \"Salsabila Jeya\"}, {\"$set\": {\"membership\": \"Platinum\"}})"
   ]
  },
  {
   "cell_type": "code",
   "execution_count": null,
   "id": "43984dd9",
   "metadata": {},
   "outputs": [],
   "source": [
    "#Mengupdate data dengan menambahkan status menjadi active\n",
    "mycol.update_many({}, {\"$set\": {\"status\": \"active\"}})\n",
    "for x in mycol.find():\n",
    "    print(x)\n"
   ]
  },
  {
   "cell_type": "code",
   "execution_count": null,
   "id": "8ac35f5e",
   "metadata": {},
   "outputs": [],
   "source": [
    "# Menghapus data pelanggan dengan email tertentu\n",
    "mycol.delete_one({\"email\": \"dedis@email.com\"})"
   ]
  },
  {
   "cell_type": "code",
   "execution_count": null,
   "id": "f5d16228",
   "metadata": {},
   "outputs": [],
   "source": [
    "# Menghapus semua data pelanggan dengan total belanja 0\n",
    "mycol.delete_many({\"total_spend\": 0})"
   ]
  },
  {
   "cell_type": "code",
   "execution_count": null,
   "id": "bd27597c",
   "metadata": {},
   "outputs": [],
   "source": [
    "# Mencari data pelanggan dengan criteria tertentu\n",
    "from pymongo import ASCENDING\n",
    "\n",
    "mycol.create_index(\"email\", ASCENDING)\n",
    "mycol.create_index(\"membership\", ASCENDING)\n",
    "\n",
    "for index in mycol.list_indexes():\n",
    "    print(index)"
   ]
  },
  {
   "cell_type": "code",
   "execution_count": null,
   "id": "ec474fac",
   "metadata": {},
   "outputs": [],
   "source": [
    "# Mencari data pelanggan dengan email yang mengandung \"gmail\"\n",
    "hasil = mycol.find({\"email\": {\"$regex\": \"gmail\"}})\n",
    "\n",
    "for data in hasil:\n",
    "    print(data)"
   ]
  }
 ],
 "metadata": {
  "kernelspec": {
   "display_name": "Python 3",
   "language": "python",
   "name": "python3"
  },
  "language_info": {
   "codemirror_mode": {
    "name": "ipython",
    "version": 3
   },
   "file_extension": ".py",
   "mimetype": "text/x-python",
   "name": "python",
   "nbconvert_exporter": "python",
   "pygments_lexer": "ipython3",
   "version": "3.11.8"
  }
 },
 "nbformat": 4,
 "nbformat_minor": 5
}
