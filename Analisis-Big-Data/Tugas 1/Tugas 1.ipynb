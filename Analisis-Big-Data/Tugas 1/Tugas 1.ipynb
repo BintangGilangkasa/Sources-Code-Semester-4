{
 "cells": [
  {
   "cell_type": "code",
   "execution_count": null,
   "metadata": {},
   "outputs": [
    {
     "name": "stdout",
     "output_type": "stream",
     "text": [
      "+-------------+----------+--------+--------+-----+----------+\n",
      "|TransactionID|CustomerID| Product|Quantity|Price|      Date|\n",
      "+-------------+----------+--------+--------+-----+----------+\n",
      "|            1|      1001|  Laptop|       1|  800|2025-04-01|\n",
      "|            2|      1002|   Mouse|       2|   20|2025-04-01|\n",
      "|            3|      1001|Keyboard|       1|   50|2025-04-02|\n",
      "|            4|      1003|  Laptop|       1|  800|2025-04-02|\n",
      "|            5|      1002| Monitor|       1|  150|2025-04-03|\n",
      "+-------------+----------+--------+--------+-----+----------+\n",
      "\n"
     ]
    }
   ],
   "source": [
    "#Import Library\n",
    "from pyspark.sql import SparkSession\n",
    "\n",
    "# Membuat SparkSession\n",
    "spark = SparkSession.builder \\\n",
    ".appName(\"Big Data Analytics with PySpark\") \\\n",
    ".getOrCreate()\n",
    "\n",
    "# Membaca data dari file CSV\n",
    "data = spark.read.csv(\"sales_data.csv\", header=True, inferSchema=True)\n",
    "\n",
    "# Menampilkan beberapa baris pertama\n",
    "data.show()"
   ]
  }
 ],
 "metadata": {
  "kernelspec": {
   "display_name": "Python 3",
   "language": "python",
   "name": "python3"
  },
  "language_info": {
   "codemirror_mode": {
    "name": "ipython",
    "version": 3
   },
   "file_extension": ".py",
   "mimetype": "text/x-python",
   "name": "python",
   "nbconvert_exporter": "python",
   "pygments_lexer": "ipython3",
   "version": "3.11.8"
  }
 },
 "nbformat": 4,
 "nbformat_minor": 2
}
