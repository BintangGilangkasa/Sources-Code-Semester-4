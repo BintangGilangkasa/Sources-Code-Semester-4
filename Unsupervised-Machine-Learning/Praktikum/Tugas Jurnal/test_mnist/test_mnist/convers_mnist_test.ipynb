{
 "cells": [
  {
   "cell_type": "code",
   "execution_count": 1,
   "id": "486378a6",
   "metadata": {},
   "outputs": [],
   "source": [
    "import pandas as pd\n",
    "import numpy as np\n",
    "from sklearn.decomposition import PCA\n",
    "from sklearn.svm import LinearSVC\n",
    "from sklearn.metrics import accuracy_score\n",
    "from sklearn.model_selection import train_test_split\n",
    "import warnings\n",
    "warnings.filterwarnings(\"ignore\")\n"
   ]
  },
  {
   "cell_type": "code",
   "execution_count": 2,
   "id": "3148c1c6",
   "metadata": {},
   "outputs": [],
   "source": [
    "# === 1. Load dan konversi data ===\n",
    "df = pd.read_csv(\"mnist_test.csv\")  # Ganti path jika perlu\n",
    "labels = df[\"label\"].values.astype(int)\n",
    "pixels = df.drop(\"label\", axis=1).values\n",
    "images = pixels.reshape(-1, 28, 28).astype(np.float32)"
   ]
  },
  {
   "cell_type": "code",
   "execution_count": 3,
   "id": "b84664c9",
   "metadata": {},
   "outputs": [],
   "source": [
    "# === 2. Ekstraksi patch acak ===\n",
    "def extract_random_patches(images, patch_size=7, stride=1, max_patches=50000):\n",
    "    n, h, w = images.shape\n",
    "    k = patch_size\n",
    "    patch_vectors = []\n",
    "\n",
    "    for idx in range(n):\n",
    "        for i in range(0, h - k + 1, stride):\n",
    "            for j in range(0, w - k + 1, stride):\n",
    "                patch = images[idx, i:i + k, j:j + k]\n",
    "                patch = patch - np.mean(patch)\n",
    "                patch_vectors.append(patch.flatten())\n",
    "                if len(patch_vectors) >= max_patches:\n",
    "                    return np.array(patch_vectors).T\n",
    "    return np.array(patch_vectors).T\n",
    "\n",
    "patch_matrix = extract_random_patches(images[:1000], patch_size=7, max_patches=50000)  # pakai sebagian untuk efisiensi\n"
   ]
  },
  {
   "cell_type": "code",
   "execution_count": 4,
   "id": "9a40e37a",
   "metadata": {},
   "outputs": [],
   "source": [
    "# === 3. PCA pada patch ===\n",
    "pca = PCA(n_components=30, random_state=42)\n",
    "pca.fit(patch_matrix.T)\n",
    "filters = pca.components_.reshape(30, 7, 7)  # 30 filter PCA ukuran 7x7"
   ]
  },
  {
   "cell_type": "code",
   "execution_count": 5,
   "id": "9d60b023",
   "metadata": {},
   "outputs": [],
   "source": [
    "# === 4. Transformasi fitur gambar ===\n",
    "def transform_images_with_pca_filters(images, filters):\n",
    "    n_images = images.shape[0]\n",
    "    n_filters = filters.shape[0]\n",
    "    h_out = images.shape[1] - 6\n",
    "    w_out = images.shape[2] - 6\n",
    "    features = np.zeros((n_images, n_filters * h_out * w_out), dtype=np.float32)\n",
    "\n",
    "    for idx in range(n_images):\n",
    "        img = images[idx]\n",
    "        feats = []\n",
    "        for f in filters:\n",
    "            conv = convolve2d(img, f, mode='valid')\n",
    "            feats.append(conv.flatten())\n",
    "        features[idx] = np.concatenate(feats)\n",
    "    return features\n",
    "\n",
    "from scipy.signal import convolve2d\n",
    "feature_vectors = transform_images_with_pca_filters(images, filters)"
   ]
  },
  {
   "cell_type": "code",
   "execution_count": null,
   "id": "a1cdac8f",
   "metadata": {},
   "outputs": [
    {
     "name": "stdout",
     "output_type": "stream",
     "text": [
      "Akurasi SVM: Final Test Accuracy: 88.15%\n"
     ]
    },
    {
     "ename": "",
     "evalue": "",
     "output_type": "error",
     "traceback": [
      "\u001b[1;31mThe Kernel crashed while executing code in the current cell or a previous cell. \n",
      "\u001b[1;31mPlease review the code in the cell(s) to identify a possible cause of the failure. \n",
      "\u001b[1;31mClick <a href='https://aka.ms/vscodeJupyterKernelCrash'>here</a> for more info. \n",
      "\u001b[1;31mView Jupyter <a href='command:jupyter.viewOutput'>log</a> for further details."
     ]
    }
   ],
   "source": [
    "# === 5. Split data dan latih SVM ===\n",
    "X_train, X_test, y_train, y_test = train_test_split(feature_vectors, labels, test_size=0.2, stratify=labels, random_state=42)\n",
    "\n",
    "clf = LinearSVC()\n",
    "clf.fit(X_train, y_train)\n",
    "y_pred = clf.predict(X_test)\n",
    "\n",
    "acc = accuracy_score(y_test, y_pred)\n",
    "print(f\"Akurasi SVM: Final Test Accuracy: {acc * 100:.2f}%\")"
   ]
  }
 ],
 "metadata": {
  "kernelspec": {
   "display_name": "Python 3",
   "language": "python",
   "name": "python3"
  },
  "language_info": {
   "codemirror_mode": {
    "name": "ipython",
    "version": 3
   },
   "file_extension": ".py",
   "mimetype": "text/x-python",
   "name": "python",
   "nbconvert_exporter": "python",
   "pygments_lexer": "ipython3",
   "version": "3.11.8"
  }
 },
 "nbformat": 4,
 "nbformat_minor": 5
}
