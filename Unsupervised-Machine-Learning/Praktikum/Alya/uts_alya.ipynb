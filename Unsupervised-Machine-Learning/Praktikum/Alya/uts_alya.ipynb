{
 "cells": [
  {
   "cell_type": "markdown",
   "id": "79444c54",
   "metadata": {},
   "source": [
    "Nama : Alya Salma Rosanty\n",
    "NIM : 23090230003\n",
    "Kelas : Sains Data 4A"
   ]
  },
  {
   "cell_type": "markdown",
   "id": "49c88d3e",
   "metadata": {},
   "source": [
    "1. Inisialisasi Database"
   ]
  },
  {
   "cell_type": "code",
   "execution_count": 1,
   "id": "fcc57201",
   "metadata": {},
   "outputs": [],
   "source": [
    "#Buat koneksi MongoDB dan database:\n",
    "import pymongo\n",
    "myclient = pymongo.MongoClient(\"mongodb://localhost:27017/\")\n",
    "mydb = myclient[\"toko_online\"]\n",
    "mycol = mydb[\"pelanggan\"]\n"
   ]
  },
  {
   "cell_type": "code",
   "execution_count": 21,
   "id": "e210077e",
   "metadata": {},
   "outputs": [
    {
     "data": {
      "text/plain": [
       "InsertManyResult([ObjectId('6810551f7239dde8e153d0a0'), ObjectId('6810551f7239dde8e153d0a1'), ObjectId('6810551f7239dde8e153d0a2'), ObjectId('6810551f7239dde8e153d0a3'), ObjectId('6810551f7239dde8e153d0a4'), ObjectId('6810551f7239dde8e153d0a5'), ObjectId('6810551f7239dde8e153d0a6'), ObjectId('6810551f7239dde8e153d0a7'), ObjectId('6810551f7239dde8e153d0a8'), ObjectId('6810551f7239dde8e153d0a9'), ObjectId('6810551f7239dde8e153d0aa'), ObjectId('6810551f7239dde8e153d0ab'), ObjectId('6810551f7239dde8e153d0ac'), ObjectId('6810551f7239dde8e153d0ad'), ObjectId('6810551f7239dde8e153d0ae'), ObjectId('6810551f7239dde8e153d0af')], acknowledged=True)"
      ]
     },
     "execution_count": 21,
     "metadata": {},
     "output_type": "execute_result"
    }
   ],
   "source": [
    "#Masukkan minimal data pelanggan\n",
    "pelanggan_data = [\n",
    "    {\"nama\": \"Alya\", \"email\": \"lyaa@gmail.com\", \"membership\": \"gold\", \"total_belanja\": 1200000},\n",
    "    {\"nama\": \"Salma\", \"email\": \"salll@yahoo.com\", \"membership\": \"silver\", \"total_belanja\": 500000},\n",
    "    {\"nama\": \"Rosanty\", \"email\": \"ross@gmail.com\", \"membership\": \"amethys\", \"total_belanja\": 850000},\n",
    "    {\"nama\": \"Canci\", \"email\": \"mwaa@yahoo.com\", \"membership\": \"emerald\", \"total_belanja\": 700000},\n",
    "    {\"nama\": \"Sekali\", \"email\": \"yuhuu@gmail.com\", \"membership\": \"bronze\", \"total_belanja\": 450000},\n",
    "    {\"nama\": \"Aily\", \"email\": \"urlilyy@yahoo.com\", \"membership\": \"silver\", \"total_belanja\": 500000},\n",
    "    {\"nama\": \"Mey\", \"email\": \"meyy@gmail.com\", \"membership\": \"emerald\", \"total_belanja\": 900000},\n",
    "    {\"nama\": \"Shuo\", \"email\": \"shuoo@yahoo.com\", \"membership\": \"bronze\", \"total_belanja\": 3500000},\n",
    "    {\"nama\": \"Flory\", \"email\": \"floo@gmail.com\", \"membership\": \"gold\", \"total_belanja\": 800000},\n",
    "    {\"nama\": \"Kylie\", \"email\": \"jenner@yahoo.com\", \"membership\": \"amethys\", \"total_belanja\": 600000},\n",
    "    {\"nama\": \"Kim\", \"email\": \"kadarshian@gmail.com\", \"membership\": \"gold\", \"total_belanja\": 2200000},\n",
    "    {\"nama\": \"Bailu\", \"email\": \"luluu@yahoo.com\", \"membership\": \"silver\", \"total_belanja\": 2500000},\n",
    "    {\"nama\": \"Esther\", \"email\": \"yuu@gmail.com\", \"membership\": \"bronze\", \"total_belanja\": 1400000},\n",
    "    {\"nama\": \"Althea\", \"email\": \"theaa@yahoo.com\", \"membership\": \"emerald\", \"total_belanja\": 1500000},\n",
    "    {\"nama\": \"Kuromi\", \"email\": \"mimii@gmail.com\", \"membership\": \"amethys\", \"total_belanja\": 1800000},\n",
    "    {\"nama\": \"Melody\", \"email\": \"loww@yahoo.com\", \"membership\": \"silver\", \"total_belanja\": 800000},\n",
    "]\n",
    "mycol.insert_many(pelanggan_data)\n"
   ]
  },
  {
   "cell_type": "markdown",
   "id": "eb4b0e4f",
   "metadata": {},
   "source": [
    "2. Menampilkan Data"
   ]
  },
  {
   "cell_type": "code",
   "execution_count": 22,
   "id": "41b10ea8",
   "metadata": {},
   "outputs": [
    {
     "name": "stdout",
     "output_type": "stream",
     "text": [
      "{'_id': ObjectId('68104eb87239dde8e153d08e'), 'nama': 'Alya', 'email': 'lyaa@gmail.com', 'membership': 'gold', 'total_belanja': 1200000, 'status': 'aktif'}\n",
      "{'_id': ObjectId('68104eb87239dde8e153d08f'), 'nama': 'Salma', 'email': 'salll@yahoo.com', 'membership': 'silver', 'total_belanja': 500000, 'status': 'aktif'}\n",
      "{'_id': ObjectId('68104eb87239dde8e153d090'), 'nama': 'Rosanty', 'email': 'ross@gmail.com', 'membership': 'amethys', 'total_belanja': 850000, 'status': 'aktif'}\n",
      "{'_id': ObjectId('68104eb87239dde8e153d092'), 'nama': 'Sekali', 'email': 'yuhuu@gmail.com', 'membership': 'bronze', 'total_belanja': 450000, 'status': 'aktif'}\n",
      "{'_id': ObjectId('68104eb87239dde8e153d093'), 'nama': 'Aily', 'email': 'urlilyy@yahoo.com', 'membership': 'silver', 'total_belanja': 500000, 'status': 'aktif'}\n",
      "{'_id': ObjectId('68104eb87239dde8e153d094'), 'nama': 'Mey', 'email': 'meyy@gmail.com', 'membership': 'emerald', 'total_belanja': 900000, 'status': 'aktif'}\n",
      "{'_id': ObjectId('68104eb87239dde8e153d095'), 'nama': 'Shuo', 'email': 'shuoo@yahoo.com', 'membership': 'bronze', 'total_belanja': 3500000, 'status': 'aktif'}\n",
      "{'_id': ObjectId('68104eb87239dde8e153d096'), 'nama': 'Flory', 'email': 'floo@gmail.com', 'membership': 'gold', 'total_belanja': 800000, 'status': 'aktif'}\n",
      "{'_id': ObjectId('68104eb87239dde8e153d097'), 'nama': 'Kylie', 'email': 'jenner@yahoo.com', 'membership': 'amethys', 'total_belanja': 600000, 'status': 'aktif'}\n",
      "{'_id': ObjectId('68104eb87239dde8e153d098'), 'nama': 'Kim', 'email': 'kadarshian@gmail.com', 'membership': 'gold', 'total_belanja': 2200000, 'status': 'aktif'}\n",
      "{'_id': ObjectId('68104eb87239dde8e153d099'), 'nama': 'Bailu', 'email': 'luluu@yahoo.com', 'membership': 'silver', 'total_belanja': 2500000, 'status': 'aktif'}\n",
      "{'_id': ObjectId('68104eb87239dde8e153d09a'), 'nama': 'Esther', 'email': 'yuu@gmail.com', 'membership': 'bronze', 'total_belanja': 1400000, 'status': 'aktif'}\n",
      "{'_id': ObjectId('68104eb87239dde8e153d09b'), 'nama': 'Althea', 'email': 'theaa@yahoo.com', 'membership': 'emerald', 'total_belanja': 1500000, 'status': 'aktif'}\n",
      "{'_id': ObjectId('68104eb87239dde8e153d09c'), 'nama': 'Kuromi', 'email': 'mimii@gmail.com', 'membership': 'amethys', 'total_belanja': 1800000, 'status': 'aktif'}\n",
      "{'_id': ObjectId('68104eb87239dde8e153d09d'), 'nama': 'Melody', 'email': 'loww@yahoo.com', 'membership': 'silver', 'total_belanja': 800000, 'status': 'aktif'}\n",
      "{'_id': ObjectId('6810551f7239dde8e153d0a0'), 'nama': 'Alya', 'email': 'lyaa@gmail.com', 'membership': 'gold', 'total_belanja': 1200000}\n",
      "{'_id': ObjectId('6810551f7239dde8e153d0a1'), 'nama': 'Salma', 'email': 'salll@yahoo.com', 'membership': 'silver', 'total_belanja': 500000}\n",
      "{'_id': ObjectId('6810551f7239dde8e153d0a2'), 'nama': 'Rosanty', 'email': 'ross@gmail.com', 'membership': 'amethys', 'total_belanja': 850000}\n",
      "{'_id': ObjectId('6810551f7239dde8e153d0a3'), 'nama': 'Canci', 'email': 'mwaa@yahoo.com', 'membership': 'emerald', 'total_belanja': 700000}\n",
      "{'_id': ObjectId('6810551f7239dde8e153d0a4'), 'nama': 'Sekali', 'email': 'yuhuu@gmail.com', 'membership': 'bronze', 'total_belanja': 450000}\n",
      "{'_id': ObjectId('6810551f7239dde8e153d0a5'), 'nama': 'Aily', 'email': 'urlilyy@yahoo.com', 'membership': 'silver', 'total_belanja': 500000}\n",
      "{'_id': ObjectId('6810551f7239dde8e153d0a6'), 'nama': 'Mey', 'email': 'meyy@gmail.com', 'membership': 'emerald', 'total_belanja': 900000}\n",
      "{'_id': ObjectId('6810551f7239dde8e153d0a7'), 'nama': 'Shuo', 'email': 'shuoo@yahoo.com', 'membership': 'bronze', 'total_belanja': 3500000}\n",
      "{'_id': ObjectId('6810551f7239dde8e153d0a8'), 'nama': 'Flory', 'email': 'floo@gmail.com', 'membership': 'gold', 'total_belanja': 800000}\n",
      "{'_id': ObjectId('6810551f7239dde8e153d0a9'), 'nama': 'Kylie', 'email': 'jenner@yahoo.com', 'membership': 'amethys', 'total_belanja': 600000}\n",
      "{'_id': ObjectId('6810551f7239dde8e153d0aa'), 'nama': 'Kim', 'email': 'kadarshian@gmail.com', 'membership': 'gold', 'total_belanja': 2200000}\n",
      "{'_id': ObjectId('6810551f7239dde8e153d0ab'), 'nama': 'Bailu', 'email': 'luluu@yahoo.com', 'membership': 'silver', 'total_belanja': 2500000}\n",
      "{'_id': ObjectId('6810551f7239dde8e153d0ac'), 'nama': 'Esther', 'email': 'yuu@gmail.com', 'membership': 'bronze', 'total_belanja': 1400000}\n",
      "{'_id': ObjectId('6810551f7239dde8e153d0ad'), 'nama': 'Althea', 'email': 'theaa@yahoo.com', 'membership': 'emerald', 'total_belanja': 1500000}\n",
      "{'_id': ObjectId('6810551f7239dde8e153d0ae'), 'nama': 'Kuromi', 'email': 'mimii@gmail.com', 'membership': 'amethys', 'total_belanja': 1800000}\n",
      "{'_id': ObjectId('6810551f7239dde8e153d0af'), 'nama': 'Melody', 'email': 'loww@yahoo.com', 'membership': 'silver', 'total_belanja': 800000}\n"
     ]
    }
   ],
   "source": [
    "#tampilan semua data pelanggan\n",
    "for data in mycol.find():\n",
    "    print(data)\n"
   ]
  },
  {
   "cell_type": "code",
   "execution_count": 23,
   "id": "260cac74",
   "metadata": {},
   "outputs": [
    {
     "name": "stdout",
     "output_type": "stream",
     "text": [
      "{'_id': ObjectId('68104eb87239dde8e153d090'), 'nama': 'Rosanty', 'email': 'ross@gmail.com', 'membership': 'amethys', 'total_belanja': 850000, 'status': 'aktif'}\n",
      "{'_id': ObjectId('68104eb87239dde8e153d097'), 'nama': 'Kylie', 'email': 'jenner@yahoo.com', 'membership': 'amethys', 'total_belanja': 600000, 'status': 'aktif'}\n",
      "{'_id': ObjectId('68104eb87239dde8e153d09c'), 'nama': 'Kuromi', 'email': 'mimii@gmail.com', 'membership': 'amethys', 'total_belanja': 1800000, 'status': 'aktif'}\n",
      "{'_id': ObjectId('6810551f7239dde8e153d0a2'), 'nama': 'Rosanty', 'email': 'ross@gmail.com', 'membership': 'amethys', 'total_belanja': 850000}\n",
      "{'_id': ObjectId('6810551f7239dde8e153d0a9'), 'nama': 'Kylie', 'email': 'jenner@yahoo.com', 'membership': 'amethys', 'total_belanja': 600000}\n",
      "{'_id': ObjectId('6810551f7239dde8e153d0ae'), 'nama': 'Kuromi', 'email': 'mimii@gmail.com', 'membership': 'amethys', 'total_belanja': 1800000}\n"
     ]
    }
   ],
   "source": [
    "#Tampilkan pelanggan membership \"amethys\"\n",
    "for data in mycol.find({\"membership\": \"amethys\"}):\n",
    "    print(data)\n"
   ]
  },
  {
   "cell_type": "code",
   "execution_count": 24,
   "id": "ec874fd0",
   "metadata": {},
   "outputs": [
    {
     "name": "stdout",
     "output_type": "stream",
     "text": [
      "{'_id': ObjectId('68104eb87239dde8e153d08e'), 'nama': 'Alya', 'email': 'lyaa@gmail.com', 'membership': 'gold', 'total_belanja': 1200000, 'status': 'aktif'}\n",
      "{'_id': ObjectId('68104eb87239dde8e153d095'), 'nama': 'Shuo', 'email': 'shuoo@yahoo.com', 'membership': 'bronze', 'total_belanja': 3500000, 'status': 'aktif'}\n",
      "{'_id': ObjectId('68104eb87239dde8e153d098'), 'nama': 'Kim', 'email': 'kadarshian@gmail.com', 'membership': 'gold', 'total_belanja': 2200000, 'status': 'aktif'}\n",
      "{'_id': ObjectId('68104eb87239dde8e153d099'), 'nama': 'Bailu', 'email': 'luluu@yahoo.com', 'membership': 'silver', 'total_belanja': 2500000, 'status': 'aktif'}\n",
      "{'_id': ObjectId('68104eb87239dde8e153d09a'), 'nama': 'Esther', 'email': 'yuu@gmail.com', 'membership': 'bronze', 'total_belanja': 1400000, 'status': 'aktif'}\n",
      "{'_id': ObjectId('68104eb87239dde8e153d09b'), 'nama': 'Althea', 'email': 'theaa@yahoo.com', 'membership': 'emerald', 'total_belanja': 1500000, 'status': 'aktif'}\n",
      "{'_id': ObjectId('68104eb87239dde8e153d09c'), 'nama': 'Kuromi', 'email': 'mimii@gmail.com', 'membership': 'amethys', 'total_belanja': 1800000, 'status': 'aktif'}\n",
      "{'_id': ObjectId('6810551f7239dde8e153d0a0'), 'nama': 'Alya', 'email': 'lyaa@gmail.com', 'membership': 'gold', 'total_belanja': 1200000}\n",
      "{'_id': ObjectId('6810551f7239dde8e153d0a7'), 'nama': 'Shuo', 'email': 'shuoo@yahoo.com', 'membership': 'bronze', 'total_belanja': 3500000}\n",
      "{'_id': ObjectId('6810551f7239dde8e153d0aa'), 'nama': 'Kim', 'email': 'kadarshian@gmail.com', 'membership': 'gold', 'total_belanja': 2200000}\n",
      "{'_id': ObjectId('6810551f7239dde8e153d0ab'), 'nama': 'Bailu', 'email': 'luluu@yahoo.com', 'membership': 'silver', 'total_belanja': 2500000}\n",
      "{'_id': ObjectId('6810551f7239dde8e153d0ac'), 'nama': 'Esther', 'email': 'yuu@gmail.com', 'membership': 'bronze', 'total_belanja': 1400000}\n",
      "{'_id': ObjectId('6810551f7239dde8e153d0ad'), 'nama': 'Althea', 'email': 'theaa@yahoo.com', 'membership': 'emerald', 'total_belanja': 1500000}\n",
      "{'_id': ObjectId('6810551f7239dde8e153d0ae'), 'nama': 'Kuromi', 'email': 'mimii@gmail.com', 'membership': 'amethys', 'total_belanja': 1800000}\n"
     ]
    }
   ],
   "source": [
    "#Tampilkan pelanggan dengan total_belanja kurang drai 1 juta:\n",
    "for data in mycol.find({\"total_belanja\": {\"$gt\": 1000000}}):\n",
    "    print(data)\n"
   ]
  },
  {
   "cell_type": "markdown",
   "id": "638f16a9",
   "metadata": {},
   "source": [
    "3. Sorting"
   ]
  },
  {
   "cell_type": "code",
   "execution_count": 25,
   "id": "32c53b94",
   "metadata": {},
   "outputs": [
    {
     "name": "stdout",
     "output_type": "stream",
     "text": [
      "{'_id': ObjectId('68104eb87239dde8e153d095'), 'nama': 'Shuo', 'email': 'shuoo@yahoo.com', 'membership': 'bronze', 'total_belanja': 3500000, 'status': 'aktif'}\n",
      "{'_id': ObjectId('6810551f7239dde8e153d0a7'), 'nama': 'Shuo', 'email': 'shuoo@yahoo.com', 'membership': 'bronze', 'total_belanja': 3500000}\n",
      "{'_id': ObjectId('68104eb87239dde8e153d099'), 'nama': 'Bailu', 'email': 'luluu@yahoo.com', 'membership': 'silver', 'total_belanja': 2500000, 'status': 'aktif'}\n",
      "{'_id': ObjectId('6810551f7239dde8e153d0ab'), 'nama': 'Bailu', 'email': 'luluu@yahoo.com', 'membership': 'silver', 'total_belanja': 2500000}\n",
      "{'_id': ObjectId('68104eb87239dde8e153d098'), 'nama': 'Kim', 'email': 'kadarshian@gmail.com', 'membership': 'gold', 'total_belanja': 2200000, 'status': 'aktif'}\n",
      "{'_id': ObjectId('6810551f7239dde8e153d0aa'), 'nama': 'Kim', 'email': 'kadarshian@gmail.com', 'membership': 'gold', 'total_belanja': 2200000}\n",
      "{'_id': ObjectId('68104eb87239dde8e153d09c'), 'nama': 'Kuromi', 'email': 'mimii@gmail.com', 'membership': 'amethys', 'total_belanja': 1800000, 'status': 'aktif'}\n",
      "{'_id': ObjectId('6810551f7239dde8e153d0ae'), 'nama': 'Kuromi', 'email': 'mimii@gmail.com', 'membership': 'amethys', 'total_belanja': 1800000}\n",
      "{'_id': ObjectId('68104eb87239dde8e153d09b'), 'nama': 'Althea', 'email': 'theaa@yahoo.com', 'membership': 'emerald', 'total_belanja': 1500000, 'status': 'aktif'}\n",
      "{'_id': ObjectId('6810551f7239dde8e153d0ad'), 'nama': 'Althea', 'email': 'theaa@yahoo.com', 'membership': 'emerald', 'total_belanja': 1500000}\n",
      "{'_id': ObjectId('68104eb87239dde8e153d09a'), 'nama': 'Esther', 'email': 'yuu@gmail.com', 'membership': 'bronze', 'total_belanja': 1400000, 'status': 'aktif'}\n",
      "{'_id': ObjectId('6810551f7239dde8e153d0ac'), 'nama': 'Esther', 'email': 'yuu@gmail.com', 'membership': 'bronze', 'total_belanja': 1400000}\n",
      "{'_id': ObjectId('68104eb87239dde8e153d08e'), 'nama': 'Alya', 'email': 'lyaa@gmail.com', 'membership': 'gold', 'total_belanja': 1200000, 'status': 'aktif'}\n",
      "{'_id': ObjectId('6810551f7239dde8e153d0a0'), 'nama': 'Alya', 'email': 'lyaa@gmail.com', 'membership': 'gold', 'total_belanja': 1200000}\n",
      "{'_id': ObjectId('68104eb87239dde8e153d094'), 'nama': 'Mey', 'email': 'meyy@gmail.com', 'membership': 'emerald', 'total_belanja': 900000, 'status': 'aktif'}\n",
      "{'_id': ObjectId('6810551f7239dde8e153d0a6'), 'nama': 'Mey', 'email': 'meyy@gmail.com', 'membership': 'emerald', 'total_belanja': 900000}\n",
      "{'_id': ObjectId('68104eb87239dde8e153d090'), 'nama': 'Rosanty', 'email': 'ross@gmail.com', 'membership': 'amethys', 'total_belanja': 850000, 'status': 'aktif'}\n",
      "{'_id': ObjectId('6810551f7239dde8e153d0a2'), 'nama': 'Rosanty', 'email': 'ross@gmail.com', 'membership': 'amethys', 'total_belanja': 850000}\n",
      "{'_id': ObjectId('68104eb87239dde8e153d096'), 'nama': 'Flory', 'email': 'floo@gmail.com', 'membership': 'gold', 'total_belanja': 800000, 'status': 'aktif'}\n",
      "{'_id': ObjectId('68104eb87239dde8e153d09d'), 'nama': 'Melody', 'email': 'loww@yahoo.com', 'membership': 'silver', 'total_belanja': 800000, 'status': 'aktif'}\n",
      "{'_id': ObjectId('6810551f7239dde8e153d0a8'), 'nama': 'Flory', 'email': 'floo@gmail.com', 'membership': 'gold', 'total_belanja': 800000}\n",
      "{'_id': ObjectId('6810551f7239dde8e153d0af'), 'nama': 'Melody', 'email': 'loww@yahoo.com', 'membership': 'silver', 'total_belanja': 800000}\n",
      "{'_id': ObjectId('6810551f7239dde8e153d0a3'), 'nama': 'Canci', 'email': 'mwaa@yahoo.com', 'membership': 'emerald', 'total_belanja': 700000}\n",
      "{'_id': ObjectId('68104eb87239dde8e153d097'), 'nama': 'Kylie', 'email': 'jenner@yahoo.com', 'membership': 'amethys', 'total_belanja': 600000, 'status': 'aktif'}\n",
      "{'_id': ObjectId('6810551f7239dde8e153d0a9'), 'nama': 'Kylie', 'email': 'jenner@yahoo.com', 'membership': 'amethys', 'total_belanja': 600000}\n",
      "{'_id': ObjectId('68104eb87239dde8e153d08f'), 'nama': 'Salma', 'email': 'salll@yahoo.com', 'membership': 'silver', 'total_belanja': 500000, 'status': 'aktif'}\n",
      "{'_id': ObjectId('68104eb87239dde8e153d093'), 'nama': 'Aily', 'email': 'urlilyy@yahoo.com', 'membership': 'silver', 'total_belanja': 500000, 'status': 'aktif'}\n",
      "{'_id': ObjectId('6810551f7239dde8e153d0a1'), 'nama': 'Salma', 'email': 'salll@yahoo.com', 'membership': 'silver', 'total_belanja': 500000}\n",
      "{'_id': ObjectId('6810551f7239dde8e153d0a5'), 'nama': 'Aily', 'email': 'urlilyy@yahoo.com', 'membership': 'silver', 'total_belanja': 500000}\n",
      "{'_id': ObjectId('68104eb87239dde8e153d092'), 'nama': 'Sekali', 'email': 'yuhuu@gmail.com', 'membership': 'bronze', 'total_belanja': 450000, 'status': 'aktif'}\n",
      "{'_id': ObjectId('6810551f7239dde8e153d0a4'), 'nama': 'Sekali', 'email': 'yuhuu@gmail.com', 'membership': 'bronze', 'total_belanja': 450000}\n"
     ]
    }
   ],
   "source": [
    "#Urutkan pelanggan berdasarkan total_belanja (descending)\n",
    "for data in mycol.find().sort(\"total_belanja\", -1):\n",
    "    print(data)\n"
   ]
  },
  {
   "cell_type": "markdown",
   "id": "161dd3fc",
   "metadata": {},
   "source": [
    "4. Update Data"
   ]
  },
  {
   "cell_type": "code",
   "execution_count": 26,
   "id": "9ef199e9",
   "metadata": {},
   "outputs": [
    {
     "data": {
      "text/plain": [
       "UpdateResult({'n': 0, 'nModified': 0, 'ok': 1.0, 'updatedExisting': False}, acknowledged=True)"
      ]
     },
     "execution_count": 26,
     "metadata": {},
     "output_type": "execute_result"
    }
   ],
   "source": [
    "#Ubah membership \"Alya\" jadi \"emerald\"\n",
    "mycol.update_one({\"name\": \"Alya\"}, {\"$set\": {\"membership\": \"emerald\"}})\n"
   ]
  },
  {
   "cell_type": "code",
   "execution_count": 27,
   "id": "325c876d",
   "metadata": {},
   "outputs": [
    {
     "data": {
      "text/plain": [
       "UpdateResult({'n': 31, 'nModified': 16, 'ok': 1.0, 'updatedExisting': True}, acknowledged=True)"
      ]
     },
     "execution_count": 27,
     "metadata": {},
     "output_type": "execute_result"
    }
   ],
   "source": [
    "#Tambahkan field baru status: \"aktif\" ke semua pelanggan\n",
    "mycol.update_many({}, {\"$set\": {\"status\": \"aktif\"}})\n"
   ]
  },
  {
   "cell_type": "markdown",
   "id": "720b2c4f",
   "metadata": {},
   "source": [
    "5. Delete Data"
   ]
  },
  {
   "cell_type": "code",
   "execution_count": 28,
   "id": "b50c52c2",
   "metadata": {},
   "outputs": [
    {
     "data": {
      "text/plain": [
       "DeleteResult({'n': 1, 'ok': 1.0}, acknowledged=True)"
      ]
     },
     "execution_count": 28,
     "metadata": {},
     "output_type": "execute_result"
    }
   ],
   "source": [
    "#Hapus pelanggan dengan email tertentu\n",
    "mycol.delete_one({\"email\": \"mwaa@yahoo.com\"})\n"
   ]
  },
  {
   "cell_type": "code",
   "execution_count": null,
   "id": "38013ca1",
   "metadata": {},
   "outputs": [
    {
     "data": {
      "text/plain": [
       "DeleteResult({'n': 0, 'ok': 1.0}, acknowledged=True)"
      ]
     },
     "execution_count": 29,
     "metadata": {},
     "output_type": "execute_result"
    }
   ],
   "source": [
    "#Hapus semua pelanggan yang belum pernah belanja\n",
    "mycol.delete_many({\"total_belanja\": 0})\n"
   ]
  },
  {
   "cell_type": "markdown",
   "id": "d42eb9a6",
   "metadata": {},
   "source": [
    "6. Indexing"
   ]
  },
  {
   "cell_type": "code",
   "execution_count": 30,
   "id": "6159059a",
   "metadata": {},
   "outputs": [
    {
     "data": {
      "text/plain": [
       "'membership_1'"
      ]
     },
     "execution_count": 30,
     "metadata": {},
     "output_type": "execute_result"
    }
   ],
   "source": [
    "#Buat index pada email dan membership\n",
    "from pymongo import ASCENDING\n",
    "mycol.create_index([(\"email\", ASCENDING)])\n",
    "mycol.create_index([(\"membership\", ASCENDING)])\n"
   ]
  },
  {
   "cell_type": "code",
   "execution_count": 31,
   "id": "90a7d320",
   "metadata": {},
   "outputs": [
    {
     "name": "stdout",
     "output_type": "stream",
     "text": [
      "Nama Index: _id_, Info: {'v': 2, 'key': [('_id', 1)]}\n",
      "Nama Index: email_1, Info: {'v': 2, 'key': [('email', 1)]}\n",
      "Nama Index: membership_1, Info: {'v': 2, 'key': [('membership', 1)]}\n"
     ]
    }
   ],
   "source": [
    "#Tampilkan info index\n",
    "index_info = mycol.index_information()\n",
    "for name, info in index_info.items():\n",
    "    print(f\"Nama Index: {name}, Info: {info}\")\n"
   ]
  },
  {
   "cell_type": "markdown",
   "id": "7214cde7",
   "metadata": {},
   "source": [
    "7. Regular Expression Search"
   ]
  },
  {
   "cell_type": "code",
   "execution_count": 32,
   "id": "c1d82480",
   "metadata": {},
   "outputs": [
    {
     "name": "stdout",
     "output_type": "stream",
     "text": [
      "{'_id': ObjectId('68104eb87239dde8e153d096'), 'nama': 'Flory', 'email': 'floo@gmail.com', 'membership': 'gold', 'total_belanja': 800000, 'status': 'aktif'}\n",
      "{'_id': ObjectId('6810551f7239dde8e153d0a8'), 'nama': 'Flory', 'email': 'floo@gmail.com', 'membership': 'gold', 'total_belanja': 800000, 'status': 'aktif'}\n",
      "{'_id': ObjectId('68104eb87239dde8e153d098'), 'nama': 'Kim', 'email': 'kadarshian@gmail.com', 'membership': 'gold', 'total_belanja': 2200000, 'status': 'aktif'}\n",
      "{'_id': ObjectId('6810551f7239dde8e153d0aa'), 'nama': 'Kim', 'email': 'kadarshian@gmail.com', 'membership': 'gold', 'total_belanja': 2200000, 'status': 'aktif'}\n",
      "{'_id': ObjectId('68104eb87239dde8e153d08e'), 'nama': 'Alya', 'email': 'lyaa@gmail.com', 'membership': 'gold', 'total_belanja': 1200000, 'status': 'aktif'}\n",
      "{'_id': ObjectId('6810551f7239dde8e153d0a0'), 'nama': 'Alya', 'email': 'lyaa@gmail.com', 'membership': 'gold', 'total_belanja': 1200000, 'status': 'aktif'}\n",
      "{'_id': ObjectId('68104eb87239dde8e153d094'), 'nama': 'Mey', 'email': 'meyy@gmail.com', 'membership': 'emerald', 'total_belanja': 900000, 'status': 'aktif'}\n",
      "{'_id': ObjectId('6810551f7239dde8e153d0a6'), 'nama': 'Mey', 'email': 'meyy@gmail.com', 'membership': 'emerald', 'total_belanja': 900000, 'status': 'aktif'}\n",
      "{'_id': ObjectId('68104eb87239dde8e153d09c'), 'nama': 'Kuromi', 'email': 'mimii@gmail.com', 'membership': 'amethys', 'total_belanja': 1800000, 'status': 'aktif'}\n",
      "{'_id': ObjectId('6810551f7239dde8e153d0ae'), 'nama': 'Kuromi', 'email': 'mimii@gmail.com', 'membership': 'amethys', 'total_belanja': 1800000, 'status': 'aktif'}\n",
      "{'_id': ObjectId('68104eb87239dde8e153d090'), 'nama': 'Rosanty', 'email': 'ross@gmail.com', 'membership': 'amethys', 'total_belanja': 850000, 'status': 'aktif'}\n",
      "{'_id': ObjectId('6810551f7239dde8e153d0a2'), 'nama': 'Rosanty', 'email': 'ross@gmail.com', 'membership': 'amethys', 'total_belanja': 850000, 'status': 'aktif'}\n",
      "{'_id': ObjectId('68104eb87239dde8e153d092'), 'nama': 'Sekali', 'email': 'yuhuu@gmail.com', 'membership': 'bronze', 'total_belanja': 450000, 'status': 'aktif'}\n",
      "{'_id': ObjectId('6810551f7239dde8e153d0a4'), 'nama': 'Sekali', 'email': 'yuhuu@gmail.com', 'membership': 'bronze', 'total_belanja': 450000, 'status': 'aktif'}\n",
      "{'_id': ObjectId('68104eb87239dde8e153d09a'), 'nama': 'Esther', 'email': 'yuu@gmail.com', 'membership': 'bronze', 'total_belanja': 1400000, 'status': 'aktif'}\n",
      "{'_id': ObjectId('6810551f7239dde8e153d0ac'), 'nama': 'Esther', 'email': 'yuu@gmail.com', 'membership': 'bronze', 'total_belanja': 1400000, 'status': 'aktif'}\n"
     ]
    }
   ],
   "source": [
    "#Cari pelanggan dengan email mengandung \"gmail\"\n",
    "import re\n",
    "for data in mycol.find({\"email\": {\"$regex\": \"gmail\", \"$options\": \"i\"}}):\n",
    "    print(data)\n"
   ]
  }
 ],
 "metadata": {
  "kernelspec": {
   "display_name": "Python 3",
   "language": "python",
   "name": "python3"
  },
  "language_info": {
   "codemirror_mode": {
    "name": "ipython",
    "version": 3
   },
   "file_extension": ".py",
   "mimetype": "text/x-python",
   "name": "python",
   "nbconvert_exporter": "python",
   "pygments_lexer": "ipython3",
   "version": "3.11.8"
  }
 },
 "nbformat": 4,
 "nbformat_minor": 5
}
