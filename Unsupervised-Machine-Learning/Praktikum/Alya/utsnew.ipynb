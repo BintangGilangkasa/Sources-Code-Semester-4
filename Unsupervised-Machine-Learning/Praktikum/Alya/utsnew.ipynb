{
 "cells": [
  {
   "cell_type": "markdown",
   "id": "3d3467b1",
   "metadata": {},
   "source": [
    "UTS_VINA ZULIA OTAVIANA (23090230001)"
   ]
  },
  {
   "cell_type": "markdown",
   "id": "62420eb5",
   "metadata": {},
   "source": [
    "1. Inisialisasi Data"
   ]
  },
  {
   "cell_type": "code",
   "execution_count": 8,
   "id": "96d0a243",
   "metadata": {},
   "outputs": [],
   "source": [
    "#Buat koneksi MongoDB dan database:\n",
    "import pymongo\n",
    "myclient = pymongo.MongoClient(\"mongodb://localhost:27017/\")\n",
    "mydb = myclient[\"book_store\"]\n",
    "mycol = mydb[\"book\"]"
   ]
  },
  {
   "cell_type": "code",
   "execution_count": 9,
   "id": "53c997da",
   "metadata": {},
   "outputs": [
    {
     "data": {
      "text/plain": [
       "InsertManyResult([ObjectId('681192444227d589f10bae8a'), ObjectId('681192444227d589f10bae8b'), ObjectId('681192444227d589f10bae8c'), ObjectId('681192444227d589f10bae8d'), ObjectId('681192444227d589f10bae8e'), ObjectId('681192444227d589f10bae8f'), ObjectId('681192444227d589f10bae90'), ObjectId('681192444227d589f10bae91'), ObjectId('681192444227d589f10bae92'), ObjectId('681192444227d589f10bae93'), ObjectId('681192444227d589f10bae94'), ObjectId('681192444227d589f10bae95'), ObjectId('681192444227d589f10bae96'), ObjectId('681192444227d589f10bae97'), ObjectId('681192444227d589f10bae98')], acknowledged=True)"
      ]
     },
     "execution_count": 9,
     "metadata": {},
     "output_type": "execute_result"
    }
   ],
   "source": [
    "#Masukkan data pelanggan\n",
    "book_data = [\n",
    "    {\"judul\": \"Laskar Pelangi\", \"pengarang\": \"Andrea Hirata\", \"genre\": \"Fiksi\", \"harga\": 85000, \"stok\": 10, \"email\": \"andrea@gmail.com\"},\n",
    "    {\"judul\": \"Bumi Manusia\", \"pengarang\": \"Pramoedya Ananta Toer\", \"genre\": \"Sejarah\", \"harga\": 95000, \"stok\": 5, \"email\": \"pram@gmail.com\"},\n",
    "    {\"judul\": \"Negeri 5 Menara\", \"pengarang\": \"Ahmad Fuadi\", \"genre\": \"Fiksi\", \"harga\": 78000, \"stok\": 12, \"email\": \"fuadi@yahoo.com\"},\n",
    "    {\"judul\": \"Atomic Habits\", \"pengarang\": \"James Clear\", \"genre\": \"Pengembangan Diri\", \"harga\": 120000, \"stok\": 8, \"email\": \"james.clear@gmail.com\"},\n",
    "    {\"judul\": \"Sapiens\", \"pengarang\": \"Yuval Noah Harari\", \"genre\": \"Sejarah\", \"harga\": 150000, \"stok\": 4, \"email\": \"harari@outlook.com\"},\n",
    "    {\"judul\": \"Rich Dad Poor Dad\", \"pengarang\": \"Robert T. Kiyosaki\", \"genre\": \"Bisnis\", \"harga\": 99000, \"stok\": 6, \"email\": \"kiyosaki@gmail.com\"},\n",
    "    {\"judul\": \"Dilan 1990\", \"pengarang\": \"Pidi Baiq\", \"genre\": \"Romansa\", \"harga\": 65000, \"stok\": 15, \"email\": \"pidi@yahoo.com\"},\n",
    "    {\"judul\": \"Filosofi Teras\", \"pengarang\": \"Henry Manampiring\", \"genre\": \"Pengembangan Diri\", \"harga\": 88000, \"stok\": 7, \"email\": \"henry@gmail.com\"},\n",
    "    {\"judul\": \"Hujan\", \"pengarang\": \"Tere Liye\", \"genre\": \"Fiksi\", \"harga\": 79000, \"stok\": 13, \"email\": \"tere@gmail.com\"},\n",
    "    {\"judul\": \"The Subtle Art of Not Giving a F*ck\", \"pengarang\": \"Mark Manson\", \"genre\": \"Pengembangan Diri\", \"harga\": 125000, \"stok\": 5, \"email\": \"mark.manson@yahoo.com\"},\n",
    "    {\"judul\": \"Ayah\", \"pengarang\": \"Andrea Hirata\", \"genre\": \"Fiksi\", \"harga\": 90000, \"stok\": 6, \"email\": \"ayah.andrea@gmail.com\"},\n",
    "    {\"judul\": \"Orang-Orang Biasa\", \"pengarang\": \"Andrea Hirata\", \"genre\": \"Fiksi\", \"harga\": 87000, \"stok\": 3, \"email\": \"orangbiasa@gmail.com\"},\n",
    "    {\"judul\": \"Matahari\", \"pengarang\": \"Tere Liye\", \"genre\": \"Fiksi\", \"harga\": 83000, \"stok\": 8, \"email\": \"matahari@tere.com\"},\n",
    "    {\"judul\": \"The Power of Habit\", \"pengarang\": \"Charles Duhigg\", \"genre\": \"Pengembangan Diri\", \"harga\": 110000, \"stok\": 4, \"email\": \"duhigg@gmail.com\"},\n",
    "    {\"judul\": \"Think and Grow Rich\", \"pengarang\": \"Napoleon Hill\", \"genre\": \"Bisnis\", \"harga\": 98000, \"stok\": 2, \"email\": \"napoleon@gmail.com\"},\n",
    "]\n",
    "mycol.insert_many(book_data)"
   ]
  },
  {
   "cell_type": "markdown",
   "id": "7e9fa431",
   "metadata": {},
   "source": [
    "2. Tampilkan Data"
   ]
  },
  {
   "cell_type": "code",
   "execution_count": 10,
   "id": "ba82fd99",
   "metadata": {},
   "outputs": [
    {
     "name": "stdout",
     "output_type": "stream",
     "text": [
      "{'_id': ObjectId('681192194227d589f10bae7a'), 'judul': 'Laskar Pelangi', 'pengarang': 'Andrea Hirata', 'genre': 'Fiksi', 'harga': 85000, 'stok': 10, 'email': 'andrea@gmail.com'}\n",
      "{'_id': ObjectId('681192194227d589f10bae7b'), 'judul': 'Bumi Manusia', 'pengarang': 'Pramoedya Ananta Toer', 'genre': 'Sejarah', 'harga': 95000, 'stok': 5, 'email': 'pram@gmail.com'}\n",
      "{'_id': ObjectId('681192194227d589f10bae7c'), 'judul': 'Negeri 5 Menara', 'pengarang': 'Ahmad Fuadi', 'genre': 'Fiksi', 'harga': 78000, 'stok': 12, 'email': 'fuadi@yahoo.com'}\n",
      "{'_id': ObjectId('681192194227d589f10bae7d'), 'judul': 'Atomic Habits', 'pengarang': 'James Clear', 'genre': 'Pengembangan Diri', 'harga': 120000, 'stok': 8, 'email': 'james.clear@gmail.com'}\n",
      "{'_id': ObjectId('681192194227d589f10bae7e'), 'judul': 'Sapiens', 'pengarang': 'Yuval Noah Harari', 'genre': 'Sejarah', 'harga': 150000, 'stok': 4, 'email': 'harari@outlook.com'}\n",
      "{'_id': ObjectId('681192194227d589f10bae7f'), 'judul': 'Rich Dad Poor Dad', 'pengarang': 'Robert T. Kiyosaki', 'genre': 'Bisnis', 'harga': 99000, 'stok': 6, 'email': 'kiyosaki@gmail.com'}\n",
      "{'_id': ObjectId('681192194227d589f10bae80'), 'judul': 'Dilan 1990', 'pengarang': 'Pidi Baiq', 'genre': 'Romansa', 'harga': 65000, 'stok': 15, 'email': 'pidi@yahoo.com'}\n",
      "{'_id': ObjectId('681192194227d589f10bae81'), 'judul': 'Filosofi Teras', 'pengarang': 'Henry Manampiring', 'genre': 'Pengembangan Diri', 'harga': 88000, 'stok': 7, 'email': 'henry@gmail.com'}\n",
      "{'_id': ObjectId('681192194227d589f10bae82'), 'judul': 'Hujan', 'pengarang': 'Tere Liye', 'genre': 'Fiksi', 'harga': 79000, 'stok': 13, 'email': 'tere@gmail.com'}\n",
      "{'_id': ObjectId('681192194227d589f10bae83'), 'judul': 'The Subtle Art of Not Giving a F*ck', 'pengarang': 'Mark Manson', 'genre': 'Pengembangan Diri', 'harga': 125000, 'stok': 5, 'email': 'mark.manson@yahoo.com'}\n",
      "{'_id': ObjectId('681192194227d589f10bae84'), 'judul': 'Ayah', 'pengarang': 'Andrea Hirata', 'genre': 'Fiksi', 'harga': 90000, 'stok': 6, 'email': 'ayah.andrea@gmail.com'}\n",
      "{'_id': ObjectId('681192194227d589f10bae85'), 'judul': 'Orang-Orang Biasa', 'pengarang': 'Andrea Hirata', 'genre': 'Fiksi', 'harga': 87000, 'stok': 3, 'email': 'orangbiasa@gmail.com'}\n",
      "{'_id': ObjectId('681192194227d589f10bae86'), 'judul': 'Matahari', 'pengarang': 'Tere Liye', 'genre': 'Fiksi', 'harga': 83000, 'stok': 8, 'email': 'matahari@tere.com'}\n",
      "{'_id': ObjectId('681192194227d589f10bae87'), 'judul': 'The Power of Habit', 'pengarang': 'Charles Duhigg', 'genre': 'Pengembangan Diri', 'harga': 110000, 'stok': 4, 'email': 'duhigg@gmail.com'}\n",
      "{'_id': ObjectId('681192194227d589f10bae88'), 'judul': 'Think and Grow Rich', 'pengarang': 'Napoleon Hill', 'genre': 'Bisnis', 'harga': 98000, 'stok': 2, 'email': 'napoleon@gmail.com'}\n",
      "{'_id': ObjectId('681192444227d589f10bae8a'), 'judul': 'Laskar Pelangi', 'pengarang': 'Andrea Hirata', 'genre': 'Fiksi', 'harga': 85000, 'stok': 10, 'email': 'andrea@gmail.com'}\n",
      "{'_id': ObjectId('681192444227d589f10bae8b'), 'judul': 'Bumi Manusia', 'pengarang': 'Pramoedya Ananta Toer', 'genre': 'Sejarah', 'harga': 95000, 'stok': 5, 'email': 'pram@gmail.com'}\n",
      "{'_id': ObjectId('681192444227d589f10bae8c'), 'judul': 'Negeri 5 Menara', 'pengarang': 'Ahmad Fuadi', 'genre': 'Fiksi', 'harga': 78000, 'stok': 12, 'email': 'fuadi@yahoo.com'}\n",
      "{'_id': ObjectId('681192444227d589f10bae8d'), 'judul': 'Atomic Habits', 'pengarang': 'James Clear', 'genre': 'Pengembangan Diri', 'harga': 120000, 'stok': 8, 'email': 'james.clear@gmail.com'}\n",
      "{'_id': ObjectId('681192444227d589f10bae8e'), 'judul': 'Sapiens', 'pengarang': 'Yuval Noah Harari', 'genre': 'Sejarah', 'harga': 150000, 'stok': 4, 'email': 'harari@outlook.com'}\n",
      "{'_id': ObjectId('681192444227d589f10bae8f'), 'judul': 'Rich Dad Poor Dad', 'pengarang': 'Robert T. Kiyosaki', 'genre': 'Bisnis', 'harga': 99000, 'stok': 6, 'email': 'kiyosaki@gmail.com'}\n",
      "{'_id': ObjectId('681192444227d589f10bae90'), 'judul': 'Dilan 1990', 'pengarang': 'Pidi Baiq', 'genre': 'Romansa', 'harga': 65000, 'stok': 15, 'email': 'pidi@yahoo.com'}\n",
      "{'_id': ObjectId('681192444227d589f10bae91'), 'judul': 'Filosofi Teras', 'pengarang': 'Henry Manampiring', 'genre': 'Pengembangan Diri', 'harga': 88000, 'stok': 7, 'email': 'henry@gmail.com'}\n",
      "{'_id': ObjectId('681192444227d589f10bae92'), 'judul': 'Hujan', 'pengarang': 'Tere Liye', 'genre': 'Fiksi', 'harga': 79000, 'stok': 13, 'email': 'tere@gmail.com'}\n",
      "{'_id': ObjectId('681192444227d589f10bae93'), 'judul': 'The Subtle Art of Not Giving a F*ck', 'pengarang': 'Mark Manson', 'genre': 'Pengembangan Diri', 'harga': 125000, 'stok': 5, 'email': 'mark.manson@yahoo.com'}\n",
      "{'_id': ObjectId('681192444227d589f10bae94'), 'judul': 'Ayah', 'pengarang': 'Andrea Hirata', 'genre': 'Fiksi', 'harga': 90000, 'stok': 6, 'email': 'ayah.andrea@gmail.com'}\n",
      "{'_id': ObjectId('681192444227d589f10bae95'), 'judul': 'Orang-Orang Biasa', 'pengarang': 'Andrea Hirata', 'genre': 'Fiksi', 'harga': 87000, 'stok': 3, 'email': 'orangbiasa@gmail.com'}\n",
      "{'_id': ObjectId('681192444227d589f10bae96'), 'judul': 'Matahari', 'pengarang': 'Tere Liye', 'genre': 'Fiksi', 'harga': 83000, 'stok': 8, 'email': 'matahari@tere.com'}\n",
      "{'_id': ObjectId('681192444227d589f10bae97'), 'judul': 'The Power of Habit', 'pengarang': 'Charles Duhigg', 'genre': 'Pengembangan Diri', 'harga': 110000, 'stok': 4, 'email': 'duhigg@gmail.com'}\n",
      "{'_id': ObjectId('681192444227d589f10bae98'), 'judul': 'Think and Grow Rich', 'pengarang': 'Napoleon Hill', 'genre': 'Bisnis', 'harga': 98000, 'stok': 2, 'email': 'napoleon@gmail.com'}\n"
     ]
    }
   ],
   "source": [
    "#tampilan semua data pelanggan\n",
    "for data in mycol.find():\n",
    "    print(data)\n"
   ]
  },
  {
   "cell_type": "code",
   "execution_count": 11,
   "id": "ad3c987b",
   "metadata": {},
   "outputs": [
    {
     "name": "stdout",
     "output_type": "stream",
     "text": [
      "{'_id': ObjectId('681192194227d589f10bae7b'), 'judul': 'Bumi Manusia', 'pengarang': 'Pramoedya Ananta Toer', 'genre': 'Sejarah', 'harga': 95000, 'stok': 5, 'email': 'pram@gmail.com'}\n",
      "{'_id': ObjectId('681192194227d589f10bae7e'), 'judul': 'Sapiens', 'pengarang': 'Yuval Noah Harari', 'genre': 'Sejarah', 'harga': 150000, 'stok': 4, 'email': 'harari@outlook.com'}\n",
      "{'_id': ObjectId('681192444227d589f10bae8b'), 'judul': 'Bumi Manusia', 'pengarang': 'Pramoedya Ananta Toer', 'genre': 'Sejarah', 'harga': 95000, 'stok': 5, 'email': 'pram@gmail.com'}\n",
      "{'_id': ObjectId('681192444227d589f10bae8e'), 'judul': 'Sapiens', 'pengarang': 'Yuval Noah Harari', 'genre': 'Sejarah', 'harga': 150000, 'stok': 4, 'email': 'harari@outlook.com'}\n"
     ]
    }
   ],
   "source": [
    "#Tampilkan genre buku \"sejarah\"\n",
    "for data in mycol.find({\"genre\": \"Sejarah\"}):\n",
    "    print(data)"
   ]
  },
  {
   "cell_type": "code",
   "execution_count": 12,
   "id": "60d9a5ee",
   "metadata": {},
   "outputs": [
    {
     "name": "stdout",
     "output_type": "stream",
     "text": [
      "{'_id': ObjectId('681192194227d589f10bae7b'), 'judul': 'Bumi Manusia', 'pengarang': 'Pramoedya Ananta Toer', 'genre': 'Sejarah', 'harga': 95000, 'stok': 5, 'email': 'pram@gmail.com'}\n",
      "{'_id': ObjectId('681192194227d589f10bae7d'), 'judul': 'Atomic Habits', 'pengarang': 'James Clear', 'genre': 'Pengembangan Diri', 'harga': 120000, 'stok': 8, 'email': 'james.clear@gmail.com'}\n",
      "{'_id': ObjectId('681192194227d589f10bae7e'), 'judul': 'Sapiens', 'pengarang': 'Yuval Noah Harari', 'genre': 'Sejarah', 'harga': 150000, 'stok': 4, 'email': 'harari@outlook.com'}\n",
      "{'_id': ObjectId('681192194227d589f10bae7f'), 'judul': 'Rich Dad Poor Dad', 'pengarang': 'Robert T. Kiyosaki', 'genre': 'Bisnis', 'harga': 99000, 'stok': 6, 'email': 'kiyosaki@gmail.com'}\n",
      "{'_id': ObjectId('681192194227d589f10bae83'), 'judul': 'The Subtle Art of Not Giving a F*ck', 'pengarang': 'Mark Manson', 'genre': 'Pengembangan Diri', 'harga': 125000, 'stok': 5, 'email': 'mark.manson@yahoo.com'}\n",
      "{'_id': ObjectId('681192194227d589f10bae87'), 'judul': 'The Power of Habit', 'pengarang': 'Charles Duhigg', 'genre': 'Pengembangan Diri', 'harga': 110000, 'stok': 4, 'email': 'duhigg@gmail.com'}\n",
      "{'_id': ObjectId('681192194227d589f10bae88'), 'judul': 'Think and Grow Rich', 'pengarang': 'Napoleon Hill', 'genre': 'Bisnis', 'harga': 98000, 'stok': 2, 'email': 'napoleon@gmail.com'}\n",
      "{'_id': ObjectId('681192444227d589f10bae8b'), 'judul': 'Bumi Manusia', 'pengarang': 'Pramoedya Ananta Toer', 'genre': 'Sejarah', 'harga': 95000, 'stok': 5, 'email': 'pram@gmail.com'}\n",
      "{'_id': ObjectId('681192444227d589f10bae8d'), 'judul': 'Atomic Habits', 'pengarang': 'James Clear', 'genre': 'Pengembangan Diri', 'harga': 120000, 'stok': 8, 'email': 'james.clear@gmail.com'}\n",
      "{'_id': ObjectId('681192444227d589f10bae8e'), 'judul': 'Sapiens', 'pengarang': 'Yuval Noah Harari', 'genre': 'Sejarah', 'harga': 150000, 'stok': 4, 'email': 'harari@outlook.com'}\n",
      "{'_id': ObjectId('681192444227d589f10bae8f'), 'judul': 'Rich Dad Poor Dad', 'pengarang': 'Robert T. Kiyosaki', 'genre': 'Bisnis', 'harga': 99000, 'stok': 6, 'email': 'kiyosaki@gmail.com'}\n",
      "{'_id': ObjectId('681192444227d589f10bae93'), 'judul': 'The Subtle Art of Not Giving a F*ck', 'pengarang': 'Mark Manson', 'genre': 'Pengembangan Diri', 'harga': 125000, 'stok': 5, 'email': 'mark.manson@yahoo.com'}\n",
      "{'_id': ObjectId('681192444227d589f10bae97'), 'judul': 'The Power of Habit', 'pengarang': 'Charles Duhigg', 'genre': 'Pengembangan Diri', 'harga': 110000, 'stok': 4, 'email': 'duhigg@gmail.com'}\n",
      "{'_id': ObjectId('681192444227d589f10bae98'), 'judul': 'Think and Grow Rich', 'pengarang': 'Napoleon Hill', 'genre': 'Bisnis', 'harga': 98000, 'stok': 2, 'email': 'napoleon@gmail.com'}\n"
     ]
    }
   ],
   "source": [
    "#Tampilkan harga buku kurang dari 90000:\n",
    "for data in mycol.find({\"harga\": {\"$gt\": 90000}}):\n",
    "    print(data)\n"
   ]
  },
  {
   "cell_type": "markdown",
   "id": "ea3d558e",
   "metadata": {},
   "source": [
    "3. Sorting"
   ]
  },
  {
   "cell_type": "code",
   "execution_count": 13,
   "id": "5cfa7a60",
   "metadata": {},
   "outputs": [
    {
     "name": "stdout",
     "output_type": "stream",
     "text": [
      "{'_id': ObjectId('681192194227d589f10bae7e'), 'judul': 'Sapiens', 'pengarang': 'Yuval Noah Harari', 'genre': 'Sejarah', 'harga': 150000, 'stok': 4, 'email': 'harari@outlook.com'}\n",
      "{'_id': ObjectId('681192444227d589f10bae8e'), 'judul': 'Sapiens', 'pengarang': 'Yuval Noah Harari', 'genre': 'Sejarah', 'harga': 150000, 'stok': 4, 'email': 'harari@outlook.com'}\n",
      "{'_id': ObjectId('681192194227d589f10bae83'), 'judul': 'The Subtle Art of Not Giving a F*ck', 'pengarang': 'Mark Manson', 'genre': 'Pengembangan Diri', 'harga': 125000, 'stok': 5, 'email': 'mark.manson@yahoo.com'}\n",
      "{'_id': ObjectId('681192444227d589f10bae93'), 'judul': 'The Subtle Art of Not Giving a F*ck', 'pengarang': 'Mark Manson', 'genre': 'Pengembangan Diri', 'harga': 125000, 'stok': 5, 'email': 'mark.manson@yahoo.com'}\n",
      "{'_id': ObjectId('681192194227d589f10bae7d'), 'judul': 'Atomic Habits', 'pengarang': 'James Clear', 'genre': 'Pengembangan Diri', 'harga': 120000, 'stok': 8, 'email': 'james.clear@gmail.com'}\n",
      "{'_id': ObjectId('681192444227d589f10bae8d'), 'judul': 'Atomic Habits', 'pengarang': 'James Clear', 'genre': 'Pengembangan Diri', 'harga': 120000, 'stok': 8, 'email': 'james.clear@gmail.com'}\n",
      "{'_id': ObjectId('681192194227d589f10bae87'), 'judul': 'The Power of Habit', 'pengarang': 'Charles Duhigg', 'genre': 'Pengembangan Diri', 'harga': 110000, 'stok': 4, 'email': 'duhigg@gmail.com'}\n",
      "{'_id': ObjectId('681192444227d589f10bae97'), 'judul': 'The Power of Habit', 'pengarang': 'Charles Duhigg', 'genre': 'Pengembangan Diri', 'harga': 110000, 'stok': 4, 'email': 'duhigg@gmail.com'}\n",
      "{'_id': ObjectId('681192194227d589f10bae7f'), 'judul': 'Rich Dad Poor Dad', 'pengarang': 'Robert T. Kiyosaki', 'genre': 'Bisnis', 'harga': 99000, 'stok': 6, 'email': 'kiyosaki@gmail.com'}\n",
      "{'_id': ObjectId('681192444227d589f10bae8f'), 'judul': 'Rich Dad Poor Dad', 'pengarang': 'Robert T. Kiyosaki', 'genre': 'Bisnis', 'harga': 99000, 'stok': 6, 'email': 'kiyosaki@gmail.com'}\n",
      "{'_id': ObjectId('681192194227d589f10bae88'), 'judul': 'Think and Grow Rich', 'pengarang': 'Napoleon Hill', 'genre': 'Bisnis', 'harga': 98000, 'stok': 2, 'email': 'napoleon@gmail.com'}\n",
      "{'_id': ObjectId('681192444227d589f10bae98'), 'judul': 'Think and Grow Rich', 'pengarang': 'Napoleon Hill', 'genre': 'Bisnis', 'harga': 98000, 'stok': 2, 'email': 'napoleon@gmail.com'}\n",
      "{'_id': ObjectId('681192194227d589f10bae7b'), 'judul': 'Bumi Manusia', 'pengarang': 'Pramoedya Ananta Toer', 'genre': 'Sejarah', 'harga': 95000, 'stok': 5, 'email': 'pram@gmail.com'}\n",
      "{'_id': ObjectId('681192444227d589f10bae8b'), 'judul': 'Bumi Manusia', 'pengarang': 'Pramoedya Ananta Toer', 'genre': 'Sejarah', 'harga': 95000, 'stok': 5, 'email': 'pram@gmail.com'}\n",
      "{'_id': ObjectId('681192194227d589f10bae84'), 'judul': 'Ayah', 'pengarang': 'Andrea Hirata', 'genre': 'Fiksi', 'harga': 90000, 'stok': 6, 'email': 'ayah.andrea@gmail.com'}\n",
      "{'_id': ObjectId('681192444227d589f10bae94'), 'judul': 'Ayah', 'pengarang': 'Andrea Hirata', 'genre': 'Fiksi', 'harga': 90000, 'stok': 6, 'email': 'ayah.andrea@gmail.com'}\n",
      "{'_id': ObjectId('681192194227d589f10bae81'), 'judul': 'Filosofi Teras', 'pengarang': 'Henry Manampiring', 'genre': 'Pengembangan Diri', 'harga': 88000, 'stok': 7, 'email': 'henry@gmail.com'}\n",
      "{'_id': ObjectId('681192444227d589f10bae91'), 'judul': 'Filosofi Teras', 'pengarang': 'Henry Manampiring', 'genre': 'Pengembangan Diri', 'harga': 88000, 'stok': 7, 'email': 'henry@gmail.com'}\n",
      "{'_id': ObjectId('681192194227d589f10bae85'), 'judul': 'Orang-Orang Biasa', 'pengarang': 'Andrea Hirata', 'genre': 'Fiksi', 'harga': 87000, 'stok': 3, 'email': 'orangbiasa@gmail.com'}\n",
      "{'_id': ObjectId('681192444227d589f10bae95'), 'judul': 'Orang-Orang Biasa', 'pengarang': 'Andrea Hirata', 'genre': 'Fiksi', 'harga': 87000, 'stok': 3, 'email': 'orangbiasa@gmail.com'}\n",
      "{'_id': ObjectId('681192194227d589f10bae7a'), 'judul': 'Laskar Pelangi', 'pengarang': 'Andrea Hirata', 'genre': 'Fiksi', 'harga': 85000, 'stok': 10, 'email': 'andrea@gmail.com'}\n",
      "{'_id': ObjectId('681192444227d589f10bae8a'), 'judul': 'Laskar Pelangi', 'pengarang': 'Andrea Hirata', 'genre': 'Fiksi', 'harga': 85000, 'stok': 10, 'email': 'andrea@gmail.com'}\n",
      "{'_id': ObjectId('681192194227d589f10bae86'), 'judul': 'Matahari', 'pengarang': 'Tere Liye', 'genre': 'Fiksi', 'harga': 83000, 'stok': 8, 'email': 'matahari@tere.com'}\n",
      "{'_id': ObjectId('681192444227d589f10bae96'), 'judul': 'Matahari', 'pengarang': 'Tere Liye', 'genre': 'Fiksi', 'harga': 83000, 'stok': 8, 'email': 'matahari@tere.com'}\n",
      "{'_id': ObjectId('681192194227d589f10bae82'), 'judul': 'Hujan', 'pengarang': 'Tere Liye', 'genre': 'Fiksi', 'harga': 79000, 'stok': 13, 'email': 'tere@gmail.com'}\n",
      "{'_id': ObjectId('681192444227d589f10bae92'), 'judul': 'Hujan', 'pengarang': 'Tere Liye', 'genre': 'Fiksi', 'harga': 79000, 'stok': 13, 'email': 'tere@gmail.com'}\n",
      "{'_id': ObjectId('681192194227d589f10bae7c'), 'judul': 'Negeri 5 Menara', 'pengarang': 'Ahmad Fuadi', 'genre': 'Fiksi', 'harga': 78000, 'stok': 12, 'email': 'fuadi@yahoo.com'}\n",
      "{'_id': ObjectId('681192444227d589f10bae8c'), 'judul': 'Negeri 5 Menara', 'pengarang': 'Ahmad Fuadi', 'genre': 'Fiksi', 'harga': 78000, 'stok': 12, 'email': 'fuadi@yahoo.com'}\n",
      "{'_id': ObjectId('681192194227d589f10bae80'), 'judul': 'Dilan 1990', 'pengarang': 'Pidi Baiq', 'genre': 'Romansa', 'harga': 65000, 'stok': 15, 'email': 'pidi@yahoo.com'}\n",
      "{'_id': ObjectId('681192444227d589f10bae90'), 'judul': 'Dilan 1990', 'pengarang': 'Pidi Baiq', 'genre': 'Romansa', 'harga': 65000, 'stok': 15, 'email': 'pidi@yahoo.com'}\n"
     ]
    }
   ],
   "source": [
    "#Urutkan daftar buku berdasarkan harga\n",
    "for data in mycol.find().sort(\"harga\", -1):\n",
    "    print(data)"
   ]
  },
  {
   "cell_type": "markdown",
   "id": "572cd9cf",
   "metadata": {},
   "source": [
    "4. Update Data"
   ]
  },
  {
   "cell_type": "code",
   "execution_count": 14,
   "id": "032f7fbe",
   "metadata": {},
   "outputs": [
    {
     "data": {
      "text/plain": [
       "UpdateResult({'n': 1, 'nModified': 1, 'ok': 1.0, 'updatedExisting': True}, acknowledged=True)"
      ]
     },
     "execution_count": 14,
     "metadata": {},
     "output_type": "execute_result"
    }
   ],
   "source": [
    "#Ubah harga buku \"Ayah\" jadi \"100000\"\n",
    "mycol.update_one({\"judul\": \"Ayah\"}, {\"$set\": {\"harga\": \"100000\"}})\n"
   ]
  },
  {
   "cell_type": "code",
   "execution_count": 15,
   "id": "70f17063",
   "metadata": {},
   "outputs": [
    {
     "data": {
      "text/plain": [
       "UpdateResult({'n': 30, 'nModified': 30, 'ok': 1.0, 'updatedExisting': True}, acknowledged=True)"
      ]
     },
     "execution_count": 15,
     "metadata": {},
     "output_type": "execute_result"
    }
   ],
   "source": [
    "#Tambahkan field baru status: \"new\" ke semua buku\n",
    "mycol.update_many({}, {\"$set\": {\"status\": \"new\"}})\n"
   ]
  },
  {
   "cell_type": "markdown",
   "id": "79beb785",
   "metadata": {},
   "source": [
    "5. Delete Data"
   ]
  },
  {
   "cell_type": "code",
   "execution_count": 16,
   "id": "a9e0c2e0",
   "metadata": {},
   "outputs": [
    {
     "data": {
      "text/plain": [
       "DeleteResult({'n': 1, 'ok': 1.0}, acknowledged=True)"
      ]
     },
     "execution_count": 16,
     "metadata": {},
     "output_type": "execute_result"
    }
   ],
   "source": [
    "#Hapus pelanggan dengan email tertentu\n",
    "mycol.delete_one({\"email\": \"pidi@yahoo.com\"})\n"
   ]
  },
  {
   "cell_type": "code",
   "execution_count": 17,
   "id": "cb840ad1",
   "metadata": {},
   "outputs": [
    {
     "data": {
      "text/plain": [
       "DeleteResult({'n': 2, 'ok': 1.0}, acknowledged=True)"
      ]
     },
     "execution_count": 17,
     "metadata": {},
     "output_type": "execute_result"
    }
   ],
   "source": [
    "#Hapus semua buku yang memiliki stok 2\n",
    "mycol.delete_many({\"stok\": 2})\n"
   ]
  },
  {
   "cell_type": "markdown",
   "id": "da2e2230",
   "metadata": {},
   "source": [
    "6. Indexing"
   ]
  },
  {
   "cell_type": "code",
   "execution_count": 18,
   "id": "5813526f",
   "metadata": {},
   "outputs": [
    {
     "data": {
      "text/plain": [
       "'stok_1'"
      ]
     },
     "execution_count": 18,
     "metadata": {},
     "output_type": "execute_result"
    }
   ],
   "source": [
    "#Buat index pada email dan stok\n",
    "from pymongo import ASCENDING\n",
    "mycol.create_index([(\"email\", ASCENDING)])\n",
    "mycol.create_index([(\"stok\", ASCENDING)])"
   ]
  },
  {
   "cell_type": "code",
   "execution_count": 19,
   "id": "caf37b7d",
   "metadata": {},
   "outputs": [
    {
     "name": "stdout",
     "output_type": "stream",
     "text": [
      "Judul Index: _id_, Info: {'v': 2, 'key': [('_id', 1)]}\n",
      "Judul Index: email_1, Info: {'v': 2, 'key': [('email', 1)]}\n",
      "Judul Index: stok_1, Info: {'v': 2, 'key': [('stok', 1)]}\n"
     ]
    }
   ],
   "source": [
    "#Tampilkan info index\n",
    "index_info = mycol.index_information()\n",
    "for name, info in index_info.items():\n",
    "    print(f\"Judul Index: {name}, Info: {info}\")\n"
   ]
  },
  {
   "cell_type": "markdown",
   "id": "44d35cbc",
   "metadata": {},
   "source": [
    "7. Reguler Expression Search"
   ]
  },
  {
   "cell_type": "code",
   "execution_count": null,
   "id": "b3d0908a",
   "metadata": {},
   "outputs": [
    {
     "name": "stdout",
     "output_type": "stream",
     "text": [
      "{'_id': ObjectId('681192194227d589f10bae7a'), 'judul': 'Laskar Pelangi', 'pengarang': 'Andrea Hirata', 'genre': 'Fiksi', 'harga': 85000, 'stok': 10, 'email': 'andrea@gmail.com', 'status': 'new'}\n",
      "{'_id': ObjectId('681192444227d589f10bae8a'), 'judul': 'Laskar Pelangi', 'pengarang': 'Andrea Hirata', 'genre': 'Fiksi', 'harga': 85000, 'stok': 10, 'email': 'andrea@gmail.com', 'status': 'new'}\n",
      "{'_id': ObjectId('681192194227d589f10bae84'), 'judul': 'Ayah', 'pengarang': 'Andrea Hirata', 'genre': 'Fiksi', 'harga': '100000', 'stok': 6, 'email': 'ayah.andrea@gmail.com', 'status': 'new'}\n",
      "{'_id': ObjectId('681192444227d589f10bae94'), 'judul': 'Ayah', 'pengarang': 'Andrea Hirata', 'genre': 'Fiksi', 'harga': 90000, 'stok': 6, 'email': 'ayah.andrea@gmail.com', 'status': 'new'}\n",
      "{'_id': ObjectId('681192194227d589f10bae87'), 'judul': 'The Power of Habit', 'pengarang': 'Charles Duhigg', 'genre': 'Pengembangan Diri', 'harga': 110000, 'stok': 4, 'email': 'duhigg@gmail.com', 'status': 'new'}\n",
      "{'_id': ObjectId('681192444227d589f10bae97'), 'judul': 'The Power of Habit', 'pengarang': 'Charles Duhigg', 'genre': 'Pengembangan Diri', 'harga': 110000, 'stok': 4, 'email': 'duhigg@gmail.com', 'status': 'new'}\n",
      "{'_id': ObjectId('681192194227d589f10bae81'), 'judul': 'Filosofi Teras', 'pengarang': 'Henry Manampiring', 'genre': 'Pengembangan Diri', 'harga': 88000, 'stok': 7, 'email': 'henry@gmail.com', 'status': 'new'}\n",
      "{'_id': ObjectId('681192444227d589f10bae91'), 'judul': 'Filosofi Teras', 'pengarang': 'Henry Manampiring', 'genre': 'Pengembangan Diri', 'harga': 88000, 'stok': 7, 'email': 'henry@gmail.com', 'status': 'new'}\n",
      "{'_id': ObjectId('681192194227d589f10bae7d'), 'judul': 'Atomic Habits', 'pengarang': 'James Clear', 'genre': 'Pengembangan Diri', 'harga': 120000, 'stok': 8, 'email': 'james.clear@gmail.com', 'status': 'new'}\n",
      "{'_id': ObjectId('681192444227d589f10bae8d'), 'judul': 'Atomic Habits', 'pengarang': 'James Clear', 'genre': 'Pengembangan Diri', 'harga': 120000, 'stok': 8, 'email': 'james.clear@gmail.com', 'status': 'new'}\n",
      "{'_id': ObjectId('681192194227d589f10bae7f'), 'judul': 'Rich Dad Poor Dad', 'pengarang': 'Robert T. Kiyosaki', 'genre': 'Bisnis', 'harga': 99000, 'stok': 6, 'email': 'kiyosaki@gmail.com', 'status': 'new'}\n",
      "{'_id': ObjectId('681192444227d589f10bae8f'), 'judul': 'Rich Dad Poor Dad', 'pengarang': 'Robert T. Kiyosaki', 'genre': 'Bisnis', 'harga': 99000, 'stok': 6, 'email': 'kiyosaki@gmail.com', 'status': 'new'}\n",
      "{'_id': ObjectId('681192194227d589f10bae85'), 'judul': 'Orang-Orang Biasa', 'pengarang': 'Andrea Hirata', 'genre': 'Fiksi', 'harga': 87000, 'stok': 3, 'email': 'orangbiasa@gmail.com', 'status': 'new'}\n",
      "{'_id': ObjectId('681192444227d589f10bae95'), 'judul': 'Orang-Orang Biasa', 'pengarang': 'Andrea Hirata', 'genre': 'Fiksi', 'harga': 87000, 'stok': 3, 'email': 'orangbiasa@gmail.com', 'status': 'new'}\n",
      "{'_id': ObjectId('681192194227d589f10bae7b'), 'judul': 'Bumi Manusia', 'pengarang': 'Pramoedya Ananta Toer', 'genre': 'Sejarah', 'harga': 95000, 'stok': 5, 'email': 'pram@gmail.com', 'status': 'new'}\n",
      "{'_id': ObjectId('681192444227d589f10bae8b'), 'judul': 'Bumi Manusia', 'pengarang': 'Pramoedya Ananta Toer', 'genre': 'Sejarah', 'harga': 95000, 'stok': 5, 'email': 'pram@gmail.com', 'status': 'new'}\n",
      "{'_id': ObjectId('681192194227d589f10bae82'), 'judul': 'Hujan', 'pengarang': 'Tere Liye', 'genre': 'Fiksi', 'harga': 79000, 'stok': 13, 'email': 'tere@gmail.com', 'status': 'new'}\n",
      "{'_id': ObjectId('681192444227d589f10bae92'), 'judul': 'Hujan', 'pengarang': 'Tere Liye', 'genre': 'Fiksi', 'harga': 79000, 'stok': 13, 'email': 'tere@gmail.com', 'status': 'new'}\n"
     ]
    }
   ],
   "source": [
    "#Cari buku dengan email mengandung \"gmail\"\n",
    "for data in mycol.find({\"email\": {\"$regex\": \"gmail\", \"$options\": \"i\"}}):\n",
    "    print(data)"
   ]
  }
 ],
 "metadata": {
  "kernelspec": {
   "display_name": "Python 3",
   "language": "python",
   "name": "python3"
  },
  "language_info": {
   "codemirror_mode": {
    "name": "ipython",
    "version": 3
   },
   "file_extension": ".py",
   "mimetype": "text/x-python",
   "name": "python",
   "nbconvert_exporter": "python",
   "pygments_lexer": "ipython3",
   "version": "3.11.8"
  }
 },
 "nbformat": 4,
 "nbformat_minor": 5
}
