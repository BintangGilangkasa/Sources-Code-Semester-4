{
 "cells": [
  {
   "cell_type": "markdown",
   "id": "3d3467b1",
   "metadata": {},
   "source": [
    "UTS_VINA ZULIA OTAVIANA (23090230001)"
   ]
  },
  {
   "cell_type": "markdown",
   "id": "62420eb5",
   "metadata": {},
   "source": [
    "1. Inisialisasi Data"
   ]
  },
  {
   "cell_type": "code",
   "execution_count": null,
   "id": "96d0a243",
   "metadata": {},
   "outputs": [],
   "source": [
    "#Buat koneksi MongoDB dan database:\n",
    "import pymongo\n",
    "myclient = pymongo.MongoClient(\"mongodb://localhost:27017/\")\n",
    "mydb = myclient[\"toko_online\"]\n",
    "mycol = mydb[\"pelanggan\"]"
   ]
  },
  {
   "cell_type": "code",
   "execution_count": null,
   "id": "53c997da",
   "metadata": {},
   "outputs": [],
   "source": [
    "#Masukkan data pelanggan\n",
    "\n",
    "pelanggan_data = [\n",
    "    {\"nama\": \"Reba\", \"email\": \"reba_one01@gmail.com\", \"membership\": \"gold\", \"total_belanja\": 1750000},\n",
    "    {\"nama\": \"Dylan\", \"email\": \"dylan98@yahoo.com\", \"membership\": \"silver\", \"total_belanja\": 1450000},\n",
    "    {\"nama\": \"Wang\", \"email\": \"wang23@gmail.com\", \"membership\": \"amethys\", \"total_belanja\": 1930000},\n",
    "    {\"nama\": \"Ghani\", \"email\": \"ghani_cool@yahoo.com\", \"membership\": \"emerald\", \"total_belanja\": 810000},\n",
    "    {\"nama\": \"Iqbal\", \"email\": \"iqbalii@gmail.com\", \"membership\": \"bronze\", \"total_belanja\": 1370000},\n",
    "    {\"nama\": \"Salsa\", \"email\": \"salsabila88@yahoo.com\", \"membership\": \"silver\", \"total_belanja\": 1520000},\n",
    "    {\"nama\": \"Jovan\", \"email\": \"jovanstar@gmail.com\", \"membership\": \"emerald\", \"total_belanja\": 1910000},\n",
    "    {\"nama\": \"Walid\", \"email\": \"walid123@yahoo.com\", \"membership\": \"bronze\", \"total_belanja\": 3000000},\n",
    "    {\"nama\": \"Nak\", \"email\": \"Nak@gmail.com\", \"membership\": \"gold\", \"total_belanja\": 1770000},\n",
    "    {\"nama\": \"Dewi\", \"email\": \"dewwii.vy@yahoo.com\", \"membership\": \"amethys\", \"total_belanja\": 1620000},\n",
    "    {\"nama\": \"Bowlehh\", \"email\": \"bowleh00@gmail.com\", \"membership\": \"gold\", \"total_belanja\": 2450000},\n",
    "    {\"nama\": \"Vina\", \"email\": \"vinacantek321@yahoo.com\", \"membership\": \"silver\", \"total_belanja\": 750000},\n",
    "    {\"nama\": \"Cinta\", \"email\": \"lovee100@gmail.com\", \"membership\": \"bronze\", \"total_belanja\": 900000},\n",
    "    {\"nama\": \"Zayn\", \"email\": \"zayn_tampan@yahoo.com\", \"membership\": \"emerald\", \"total_belanja\": 889000},\n",
    "    {\"nama\": \"Malik\", \"email\": \"malikyu@gmail.com\", \"membership\": \"amethys\", \"total_belanja\": 950000},\n",
    "    {\"nama\": \"Darren\", \"email\": \"darren_low@yahoo.com\", \"membership\": \"silver\", \"total_belanja\": 1880000},\n",
    "    {\"nama\": \"Chen\", \"email\": \"chenn76@gmail.com\", \"membership\": \"gold\", \"total_belanja\": 1345000},\n",
    "] \n",
    "mycol.insert_many(pelanggan_data)"
   ]
  },
  {
   "cell_type": "markdown",
   "id": "7e9fa431",
   "metadata": {},
   "source": [
    "2. Tampilkan Data"
   ]
  },
  {
   "cell_type": "code",
   "execution_count": null,
   "id": "ba82fd99",
   "metadata": {},
   "outputs": [],
   "source": [
    "#tampilan semua data pelanggan\n",
    "for data in mycol.find():\n",
    "    print(data)\n"
   ]
  },
  {
   "cell_type": "code",
   "execution_count": null,
   "id": "ad3c987b",
   "metadata": {},
   "outputs": [],
   "source": [
    "#Tampilkan pelanggan membership \"silver\"\n",
    "for data in mycol.find({\"membership\": \"silver\"}):\n",
    "    print(data)"
   ]
  },
  {
   "cell_type": "code",
   "execution_count": null,
   "id": "60d9a5ee",
   "metadata": {},
   "outputs": [],
   "source": [
    "#Tampilkan pelanggan dengan total_belanja kurang dari 1 juta:\n",
    "for data in mycol.find({\"total_belanja\": {\"$gt\": 1000000}}):\n",
    "    print(data)\n",
    "\n"
   ]
  },
  {
   "cell_type": "markdown",
   "id": "ea3d558e",
   "metadata": {},
   "source": [
    "3. Sorting"
   ]
  },
  {
   "cell_type": "code",
   "execution_count": null,
   "id": "5cfa7a60",
   "metadata": {},
   "outputs": [],
   "source": [
    "#Urutkan pelanggan berdasarkan total_belanja (descending)\n",
    "for data in mycol.find().sort(\"total_belanja\", -1):\n",
    "    print(data)\n"
   ]
  },
  {
   "cell_type": "markdown",
   "id": "572cd9cf",
   "metadata": {},
   "source": [
    "4. Update Data"
   ]
  },
  {
   "cell_type": "code",
   "execution_count": null,
   "id": "032f7fbe",
   "metadata": {},
   "outputs": [],
   "source": [
    "#Ubah membership \"Iqbal\" jadi \"silver\"\n",
    "mycol.update_one({\"name\": \"Iqbal\"}, {\"$set\": {\"membership\": \"silver\"}})\n"
   ]
  },
  {
   "cell_type": "code",
   "execution_count": null,
   "id": "70f17063",
   "metadata": {},
   "outputs": [],
   "source": [
    "#Tambahkan field baru status: \"aktif\" ke semua pelanggan\n",
    "mycol.update_many({}, {\"$set\": {\"status\": \"aktif\"}})\n"
   ]
  },
  {
   "cell_type": "markdown",
   "id": "79beb785",
   "metadata": {},
   "source": [
    "5. Delete Data"
   ]
  },
  {
   "cell_type": "code",
   "execution_count": null,
   "id": "a9e0c2e0",
   "metadata": {},
   "outputs": [],
   "source": [
    "#Hapus pelanggan dengan email tertentu\n",
    "mycol.delete_one({\"email\": \"darren_low@yahoo.com\"})\n"
   ]
  },
  {
   "cell_type": "code",
   "execution_count": null,
   "id": "cb840ad1",
   "metadata": {},
   "outputs": [],
   "source": [
    "#Hapus semua pelanggan yang belum pernah belanja\n",
    "mycol.delete_many({\"total_belanja\": 0})"
   ]
  },
  {
   "cell_type": "markdown",
   "id": "da2e2230",
   "metadata": {},
   "source": [
    "6. Indexing"
   ]
  },
  {
   "cell_type": "code",
   "execution_count": null,
   "id": "5813526f",
   "metadata": {},
   "outputs": [],
   "source": [
    "#Buat index pada email dan membership\n",
    "from pymongo import ASCENDING\n",
    "mycol.create_index([(\"email\", ASCENDING)])\n",
    "mycol.create_index([(\"membership\", ASCENDING)])"
   ]
  },
  {
   "cell_type": "code",
   "execution_count": null,
   "id": "caf37b7d",
   "metadata": {},
   "outputs": [],
   "source": [
    "#Tampilkan info index\n",
    "index_info = mycol.index_information()\n",
    "for name, info in index_info.items():\n",
    "    print(f\"Nama Index: {name}, Info: {info}\")\n"
   ]
  },
  {
   "cell_type": "markdown",
   "id": "44d35cbc",
   "metadata": {},
   "source": [
    "7. Reguler Expression Search"
   ]
  },
  {
   "cell_type": "code",
   "execution_count": null,
   "id": "b3d0908a",
   "metadata": {},
   "outputs": [],
   "source": [
    "#Cari pelanggan dengan email mengandung \"gmail\"\n",
    "import re\n",
    "for data in mycol.find({\"email\": {\"$regex\": \"gmail\", \"$options\": \"i\"}}):\n",
    "    print(data)"
   ]
  }
 ],
 "metadata": {
  "kernelspec": {
   "display_name": "Python 3",
   "language": "python",
   "name": "python3"
  },
  "language_info": {
   "codemirror_mode": {
    "name": "ipython",
    "version": 3
   },
   "file_extension": ".py",
   "mimetype": "text/x-python",
   "name": "python",
   "nbconvert_exporter": "python",
   "pygments_lexer": "ipython3",
   "version": "3.11.8"
  }
 },
 "nbformat": 4,
 "nbformat_minor": 5
}
